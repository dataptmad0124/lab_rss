{
 "cells": [
  {
   "cell_type": "markdown",
   "metadata": {},
   "source": [
    "# Working with RSS Feeds Lab\n",
    "\n",
    "Complete the following set of exercises to solidify your knowledge of parsing RSS feeds and extracting information from them."
   ]
  },
  {
   "cell_type": "code",
   "execution_count": 2,
   "metadata": {},
   "outputs": [
    {
     "name": "stdout",
     "output_type": "stream",
     "text": [
      "Requirement already satisfied: feedparser in /Users/paksivatkinavaleria/anaconda3/lib/python3.11/site-packages (6.0.11)\n",
      "Requirement already satisfied: sgmllib3k in /Users/paksivatkinavaleria/anaconda3/lib/python3.11/site-packages (from feedparser) (1.0.0)\n",
      "Note: you may need to restart the kernel to use updated packages.\n"
     ]
    }
   ],
   "source": [
    "pip install feedparser"
   ]
  },
  {
   "cell_type": "code",
   "execution_count": 3,
   "metadata": {},
   "outputs": [],
   "source": [
    "import feedparser"
   ]
  },
  {
   "cell_type": "markdown",
   "metadata": {},
   "source": [
    "### 1. Use feedparser to parse the following RSS feed URL."
   ]
  },
  {
   "cell_type": "code",
   "execution_count": 4,
   "metadata": {},
   "outputs": [],
   "source": [
    "url = 'https://www.nasa.gov/news-release/feed/'"
   ]
  },
  {
   "cell_type": "code",
   "execution_count": 5,
   "metadata": {},
   "outputs": [],
   "source": [
    "nasa = feedparser.parse(url)"
   ]
  },
  {
   "cell_type": "markdown",
   "metadata": {},
   "source": [
    "### 2. Obtain a list of components (keys) that are available for this feed."
   ]
  },
  {
   "cell_type": "code",
   "execution_count": 6,
   "metadata": {},
   "outputs": [
    {
     "data": {
      "text/plain": [
       "dict_keys(['bozo', 'entries', 'feed', 'headers', 'etag', 'updated', 'updated_parsed', 'href', 'status', 'encoding', 'version', 'namespaces'])"
      ]
     },
     "execution_count": 6,
     "metadata": {},
     "output_type": "execute_result"
    }
   ],
   "source": [
    "nasa.keys()"
   ]
  },
  {
   "cell_type": "markdown",
   "metadata": {},
   "source": [
    "### 3. Obtain a list of components (keys) that are available for the *feed* component of this RSS feed."
   ]
  },
  {
   "cell_type": "code",
   "execution_count": 7,
   "metadata": {},
   "outputs": [
    {
     "name": "stdout",
     "output_type": "stream",
     "text": [
      "{'title': 'NASA', 'title_detail': {'type': 'text/plain', 'language': None, 'base': 'https://www.nasa.gov/news-release/feed/', 'value': 'NASA'}, 'links': [{'href': 'https://www.nasa.gov/news-release/feed/', 'rel': 'self', 'type': 'application/rss+xml'}, {'rel': 'alternate', 'type': 'text/html', 'href': 'https://www.nasa.gov'}], 'link': 'https://www.nasa.gov', 'subtitle': 'Official National Aeronautics and Space Administration Website', 'subtitle_detail': {'type': 'text/html', 'language': None, 'base': 'https://www.nasa.gov/news-release/feed/', 'value': 'Official National Aeronautics and Space Administration Website'}, 'updated': 'Wed, 21 Feb 2024 19:05:57 +0000', 'updated_parsed': time.struct_time(tm_year=2024, tm_mon=2, tm_mday=21, tm_hour=19, tm_min=5, tm_sec=57, tm_wday=2, tm_yday=52, tm_isdst=0), 'language': 'en-US', 'sy_updateperiod': 'hourly', 'sy_updatefrequency': '1', 'generator_detail': {'name': 'https://wordpress.org/?v=6.3.3'}, 'generator': 'https://wordpress.org/?v=6.3.3'}\n"
     ]
    }
   ],
   "source": [
    "print(nasa['feed'])"
   ]
  },
  {
   "cell_type": "code",
   "execution_count": 8,
   "metadata": {},
   "outputs": [
    {
     "data": {
      "text/plain": [
       "dict_keys(['title', 'title_detail', 'links', 'link', 'subtitle', 'subtitle_detail', 'updated', 'updated_parsed', 'language', 'sy_updateperiod', 'sy_updatefrequency', 'generator_detail', 'generator'])"
      ]
     },
     "execution_count": 8,
     "metadata": {},
     "output_type": "execute_result"
    }
   ],
   "source": [
    "nasa.feed.keys()"
   ]
  },
  {
   "cell_type": "markdown",
   "metadata": {},
   "source": [
    "### 4. Extract and print the feed title, subtitle, author, and link."
   ]
  },
  {
   "cell_type": "code",
   "execution_count": 9,
   "metadata": {},
   "outputs": [
    {
     "name": "stdout",
     "output_type": "stream",
     "text": [
      "NASA\n",
      "\n",
      "Official National Aeronautics and Space Administration Website\n",
      "\n",
      "https://wordpress.org/?v=6.3.3\n",
      "\n",
      "https://www.nasa.gov\n"
     ]
    }
   ],
   "source": [
    "print (nasa.feed.title)\n",
    "print ('')\n",
    "print (nasa.feed.subtitle)\n",
    "print ('')\n",
    "print (nasa.feed.generator)\n",
    "print ('')\n",
    "print (nasa.feed.link)"
   ]
  },
  {
   "cell_type": "markdown",
   "metadata": {},
   "source": [
    "### 5. Count the number of entries that are contained in this RSS feed."
   ]
  },
  {
   "cell_type": "code",
   "execution_count": 10,
   "metadata": {},
   "outputs": [
    {
     "data": {
      "text/plain": [
       "10"
      ]
     },
     "execution_count": 10,
     "metadata": {},
     "output_type": "execute_result"
    }
   ],
   "source": [
    "len(nasa.entries)"
   ]
  },
  {
   "cell_type": "markdown",
   "metadata": {},
   "source": [
    "### 6. Obtain a list of components (keys) available for an entry.\n",
    "\n",
    "*Hint: Remember to index first before requesting the keys*"
   ]
  },
  {
   "cell_type": "code",
   "execution_count": 11,
   "metadata": {},
   "outputs": [
    {
     "data": {
      "text/plain": [
       "dict_keys(['title', 'title_detail', 'links', 'link', 'authors', 'author', 'author_detail', 'published', 'published_parsed', 'tags', 'id', 'guidislink', 'summary', 'summary_detail', 'content', 'media_content', 'media_player', 'media_thumbnail', 'href', 'media_rating', 'rating'])"
      ]
     },
     "execution_count": 11,
     "metadata": {},
     "output_type": "execute_result"
    }
   ],
   "source": [
    "nasa.entries[0].keys()"
   ]
  },
  {
   "cell_type": "markdown",
   "metadata": {},
   "source": [
    "### 7. Extract a list of entry titles."
   ]
  },
  {
   "cell_type": "code",
   "execution_count": 12,
   "metadata": {},
   "outputs": [
    {
     "name": "stdout",
     "output_type": "stream",
     "text": [
      "['Stellar Beads on a String', 'NASA Astronomer Sees Power in Community, Works to Build More', 'Ride the Wave of Radio Astronomy During the Solar Eclipse', 'NASA Selects University Teams to Explore Innovative Aeronautical Research', 'Become a SunSketcher, and Help Measure the Shape of the Sun!', 'NASA Sets Coverage of First US Uncrewed Commercial Moon Landing', 'Seeing is Communicating', 'Annual Highlights of Results 2023: Introduction and Analyses', '2023 Annual Highlights of Results from the International Space Station', 'Renee King: Ensuring Space for Everyone']\n"
     ]
    }
   ],
   "source": [
    "titles = [nasa.entries[i].title for i in range(len(nasa.entries))]\n",
    "print(titles)"
   ]
  },
  {
   "cell_type": "markdown",
   "metadata": {},
   "source": [
    "### 8. Calculate the percentage of \"Four short links\" entry titles."
   ]
  },
  {
   "cell_type": "code",
   "execution_count": 13,
   "metadata": {},
   "outputs": [
    {
     "name": "stdout",
     "output_type": "stream",
     "text": [
      "Object `??` not found.\n"
     ]
    }
   ],
   "source": [
    "????"
   ]
  },
  {
   "cell_type": "markdown",
   "metadata": {},
   "source": [
    "### 9. Create a Pandas data frame from the feed's entries."
   ]
  },
  {
   "cell_type": "code",
   "execution_count": 21,
   "metadata": {},
   "outputs": [
    {
     "data": {
      "text/html": [
       "<div>\n",
       "<style scoped>\n",
       "    .dataframe tbody tr th:only-of-type {\n",
       "        vertical-align: middle;\n",
       "    }\n",
       "\n",
       "    .dataframe tbody tr th {\n",
       "        vertical-align: top;\n",
       "    }\n",
       "\n",
       "    .dataframe thead th {\n",
       "        text-align: right;\n",
       "    }\n",
       "</style>\n",
       "<table border=\"1\" class=\"dataframe\">\n",
       "  <thead>\n",
       "    <tr style=\"text-align: right;\">\n",
       "      <th></th>\n",
       "      <th>title</th>\n",
       "      <th>links</th>\n",
       "      <th>link</th>\n",
       "      <th>authors</th>\n",
       "      <th>author</th>\n",
       "      <th>published</th>\n",
       "      <th>published_parsed</th>\n",
       "      <th>tags</th>\n",
       "      <th>id</th>\n",
       "      <th>guidislink</th>\n",
       "      <th>...</th>\n",
       "      <th>title_detail.value</th>\n",
       "      <th>author_detail.name</th>\n",
       "      <th>summary_detail.type</th>\n",
       "      <th>summary_detail.language</th>\n",
       "      <th>summary_detail.base</th>\n",
       "      <th>summary_detail.value</th>\n",
       "      <th>media_player.url</th>\n",
       "      <th>media_player.content</th>\n",
       "      <th>media_rating.scheme</th>\n",
       "      <th>media_rating.content</th>\n",
       "    </tr>\n",
       "  </thead>\n",
       "  <tbody>\n",
       "    <tr>\n",
       "      <th>0</th>\n",
       "      <td>Stellar Beads on a String</td>\n",
       "      <td>[{'rel': 'alternate', 'type': 'text/html', 'hr...</td>\n",
       "      <td>https://www.nasa.gov/image-article/stellar-bea...</td>\n",
       "      <td>[{'name': 'Lee Mohon'}]</td>\n",
       "      <td>Lee Mohon</td>\n",
       "      <td>Wed, 21 Feb 2024 17:25:50 +0000</td>\n",
       "      <td>(2024, 2, 21, 17, 25, 50, 2, 52, 0)</td>\n",
       "      <td>[{'term': 'Astrophysics', 'scheme': None, 'lab...</td>\n",
       "      <td>https://www.nasa.gov/?post_type=image-article&amp;...</td>\n",
       "      <td>False</td>\n",
       "      <td>...</td>\n",
       "      <td>Stellar Beads on a String</td>\n",
       "      <td>Lee Mohon</td>\n",
       "      <td>text/html</td>\n",
       "      <td>None</td>\n",
       "      <td>https://www.nasa.gov/news-release/feed/</td>\n",
       "      <td>Astronomers have discovered one of the most po...</td>\n",
       "      <td>https://www.youtube.com/embed/bouQkHDXMKA</td>\n",
       "      <td></td>\n",
       "      <td>urn:simple</td>\n",
       "      <td>nonadult</td>\n",
       "    </tr>\n",
       "    <tr>\n",
       "      <th>1</th>\n",
       "      <td>NASA Astronomer Sees Power in Community, Works...</td>\n",
       "      <td>[{'rel': 'alternate', 'type': 'text/html', 'hr...</td>\n",
       "      <td>https://www.nasa.gov/general/nasa-astronomer-s...</td>\n",
       "      <td>[{'name': 'Abby Tabor'}]</td>\n",
       "      <td>Abby Tabor</td>\n",
       "      <td>Wed, 21 Feb 2024 17:22:18 +0000</td>\n",
       "      <td>(2024, 2, 21, 17, 22, 18, 2, 52, 0)</td>\n",
       "      <td>[{'term': 'General', 'scheme': None, 'label': ...</td>\n",
       "      <td>https://www.nasa.gov/?p=616846</td>\n",
       "      <td>False</td>\n",
       "      <td>...</td>\n",
       "      <td>NASA Astronomer Sees Power in Community, Works...</td>\n",
       "      <td>Abby Tabor</td>\n",
       "      <td>text/html</td>\n",
       "      <td>None</td>\n",
       "      <td>https://www.nasa.gov/news-release/feed/</td>\n",
       "      <td>Science is often portrayed as a solitary affai...</td>\n",
       "      <td>NaN</td>\n",
       "      <td>NaN</td>\n",
       "      <td>NaN</td>\n",
       "      <td>NaN</td>\n",
       "    </tr>\n",
       "    <tr>\n",
       "      <th>2</th>\n",
       "      <td>Ride the Wave of Radio Astronomy During the So...</td>\n",
       "      <td>[{'rel': 'alternate', 'type': 'text/html', 'hr...</td>\n",
       "      <td>https://science.nasa.gov/solar-system/skywatch...</td>\n",
       "      <td>[{}]</td>\n",
       "      <td></td>\n",
       "      <td>Wed, 21 Feb 2024 16:24:06 +0000</td>\n",
       "      <td>(2024, 2, 21, 16, 24, 6, 2, 52, 0)</td>\n",
       "      <td>[{'term': '2024 Solar Eclipse', 'scheme': None...</td>\n",
       "      <td>https://science.nasa.gov/solar-system/skywatch...</td>\n",
       "      <td>False</td>\n",
       "      <td>...</td>\n",
       "      <td>Ride the Wave of Radio Astronomy During the So...</td>\n",
       "      <td>NaN</td>\n",
       "      <td>text/html</td>\n",
       "      <td>None</td>\n",
       "      <td>https://www.nasa.gov/news-release/feed/</td>\n",
       "      <td>Students and science enthusiasts are invited t...</td>\n",
       "      <td>NaN</td>\n",
       "      <td>NaN</td>\n",
       "      <td>NaN</td>\n",
       "      <td>NaN</td>\n",
       "    </tr>\n",
       "    <tr>\n",
       "      <th>3</th>\n",
       "      <td>NASA Selects University Teams to Explore Innov...</td>\n",
       "      <td>[{'rel': 'alternate', 'type': 'text/html', 'hr...</td>\n",
       "      <td>https://www.nasa.gov/aeronautics/university-te...</td>\n",
       "      <td>[{'name': 'Jim Banke'}]</td>\n",
       "      <td>Jim Banke</td>\n",
       "      <td>Wed, 21 Feb 2024 05:50:33 +0000</td>\n",
       "      <td>(2024, 2, 21, 5, 50, 33, 2, 52, 0)</td>\n",
       "      <td>[{'term': 'Aeronautics', 'scheme': None, 'labe...</td>\n",
       "      <td>https://www.nasa.gov/?p=617878</td>\n",
       "      <td>False</td>\n",
       "      <td>...</td>\n",
       "      <td>NASA Selects University Teams to Explore Innov...</td>\n",
       "      <td>Jim Banke</td>\n",
       "      <td>text/html</td>\n",
       "      <td>None</td>\n",
       "      <td>https://www.nasa.gov/news-release/feed/</td>\n",
       "      <td>NASA has selected another five university team...</td>\n",
       "      <td>NaN</td>\n",
       "      <td>NaN</td>\n",
       "      <td>NaN</td>\n",
       "      <td>NaN</td>\n",
       "    </tr>\n",
       "    <tr>\n",
       "      <th>4</th>\n",
       "      <td>Become a SunSketcher, and Help Measure the Sha...</td>\n",
       "      <td>[{'rel': 'alternate', 'type': 'text/html', 'hr...</td>\n",
       "      <td>https://science.nasa.gov/get-involved/citizen-...</td>\n",
       "      <td>[{}]</td>\n",
       "      <td></td>\n",
       "      <td>Tue, 20 Feb 2024 21:35:49 +0000</td>\n",
       "      <td>(2024, 2, 20, 21, 35, 49, 1, 51, 0)</td>\n",
       "      <td>[{'term': 'Citizen Science', 'scheme': None, '...</td>\n",
       "      <td>https://science.nasa.gov/get-involved/citizen-...</td>\n",
       "      <td>False</td>\n",
       "      <td>...</td>\n",
       "      <td>Become a SunSketcher, and Help Measure the Sha...</td>\n",
       "      <td>NaN</td>\n",
       "      <td>text/html</td>\n",
       "      <td>None</td>\n",
       "      <td>https://www.nasa.gov/news-release/feed/</td>\n",
       "      <td>What shape Is the Sun? Hint: it’s not perfectl...</td>\n",
       "      <td>NaN</td>\n",
       "      <td>NaN</td>\n",
       "      <td>NaN</td>\n",
       "      <td>NaN</td>\n",
       "    </tr>\n",
       "  </tbody>\n",
       "</table>\n",
       "<p>5 rows × 29 columns</p>\n",
       "</div>"
      ],
      "text/plain": [
       "                                               title  \\\n",
       "0                          Stellar Beads on a String   \n",
       "1  NASA Astronomer Sees Power in Community, Works...   \n",
       "2  Ride the Wave of Radio Astronomy During the So...   \n",
       "3  NASA Selects University Teams to Explore Innov...   \n",
       "4  Become a SunSketcher, and Help Measure the Sha...   \n",
       "\n",
       "                                               links  \\\n",
       "0  [{'rel': 'alternate', 'type': 'text/html', 'hr...   \n",
       "1  [{'rel': 'alternate', 'type': 'text/html', 'hr...   \n",
       "2  [{'rel': 'alternate', 'type': 'text/html', 'hr...   \n",
       "3  [{'rel': 'alternate', 'type': 'text/html', 'hr...   \n",
       "4  [{'rel': 'alternate', 'type': 'text/html', 'hr...   \n",
       "\n",
       "                                                link  \\\n",
       "0  https://www.nasa.gov/image-article/stellar-bea...   \n",
       "1  https://www.nasa.gov/general/nasa-astronomer-s...   \n",
       "2  https://science.nasa.gov/solar-system/skywatch...   \n",
       "3  https://www.nasa.gov/aeronautics/university-te...   \n",
       "4  https://science.nasa.gov/get-involved/citizen-...   \n",
       "\n",
       "                    authors      author                        published  \\\n",
       "0   [{'name': 'Lee Mohon'}]   Lee Mohon  Wed, 21 Feb 2024 17:25:50 +0000   \n",
       "1  [{'name': 'Abby Tabor'}]  Abby Tabor  Wed, 21 Feb 2024 17:22:18 +0000   \n",
       "2                      [{}]              Wed, 21 Feb 2024 16:24:06 +0000   \n",
       "3   [{'name': 'Jim Banke'}]   Jim Banke  Wed, 21 Feb 2024 05:50:33 +0000   \n",
       "4                      [{}]              Tue, 20 Feb 2024 21:35:49 +0000   \n",
       "\n",
       "                      published_parsed  \\\n",
       "0  (2024, 2, 21, 17, 25, 50, 2, 52, 0)   \n",
       "1  (2024, 2, 21, 17, 22, 18, 2, 52, 0)   \n",
       "2   (2024, 2, 21, 16, 24, 6, 2, 52, 0)   \n",
       "3   (2024, 2, 21, 5, 50, 33, 2, 52, 0)   \n",
       "4  (2024, 2, 20, 21, 35, 49, 1, 51, 0)   \n",
       "\n",
       "                                                tags  \\\n",
       "0  [{'term': 'Astrophysics', 'scheme': None, 'lab...   \n",
       "1  [{'term': 'General', 'scheme': None, 'label': ...   \n",
       "2  [{'term': '2024 Solar Eclipse', 'scheme': None...   \n",
       "3  [{'term': 'Aeronautics', 'scheme': None, 'labe...   \n",
       "4  [{'term': 'Citizen Science', 'scheme': None, '...   \n",
       "\n",
       "                                                  id  guidislink  ...  \\\n",
       "0  https://www.nasa.gov/?post_type=image-article&...       False  ...   \n",
       "1                     https://www.nasa.gov/?p=616846       False  ...   \n",
       "2  https://science.nasa.gov/solar-system/skywatch...       False  ...   \n",
       "3                     https://www.nasa.gov/?p=617878       False  ...   \n",
       "4  https://science.nasa.gov/get-involved/citizen-...       False  ...   \n",
       "\n",
       "                                  title_detail.value author_detail.name  \\\n",
       "0                          Stellar Beads on a String          Lee Mohon   \n",
       "1  NASA Astronomer Sees Power in Community, Works...         Abby Tabor   \n",
       "2  Ride the Wave of Radio Astronomy During the So...                NaN   \n",
       "3  NASA Selects University Teams to Explore Innov...          Jim Banke   \n",
       "4  Become a SunSketcher, and Help Measure the Sha...                NaN   \n",
       "\n",
       "  summary_detail.type summary_detail.language  \\\n",
       "0           text/html                    None   \n",
       "1           text/html                    None   \n",
       "2           text/html                    None   \n",
       "3           text/html                    None   \n",
       "4           text/html                    None   \n",
       "\n",
       "                       summary_detail.base  \\\n",
       "0  https://www.nasa.gov/news-release/feed/   \n",
       "1  https://www.nasa.gov/news-release/feed/   \n",
       "2  https://www.nasa.gov/news-release/feed/   \n",
       "3  https://www.nasa.gov/news-release/feed/   \n",
       "4  https://www.nasa.gov/news-release/feed/   \n",
       "\n",
       "                                summary_detail.value  \\\n",
       "0  Astronomers have discovered one of the most po...   \n",
       "1  Science is often portrayed as a solitary affai...   \n",
       "2  Students and science enthusiasts are invited t...   \n",
       "3  NASA has selected another five university team...   \n",
       "4  What shape Is the Sun? Hint: it’s not perfectl...   \n",
       "\n",
       "                            media_player.url media_player.content  \\\n",
       "0  https://www.youtube.com/embed/bouQkHDXMKA                        \n",
       "1                                        NaN                  NaN   \n",
       "2                                        NaN                  NaN   \n",
       "3                                        NaN                  NaN   \n",
       "4                                        NaN                  NaN   \n",
       "\n",
       "  media_rating.scheme media_rating.content  \n",
       "0          urn:simple             nonadult  \n",
       "1                 NaN                  NaN  \n",
       "2                 NaN                  NaN  \n",
       "3                 NaN                  NaN  \n",
       "4                 NaN                  NaN  \n",
       "\n",
       "[5 rows x 29 columns]"
      ]
     },
     "execution_count": 21,
     "metadata": {},
     "output_type": "execute_result"
    }
   ],
   "source": [
    "import pandas as pd\n",
    "\n",
    "df = pd.DataFrame(pd.json_normalize(nasa.entries))\n",
    "df.head()"
   ]
  },
  {
   "cell_type": "code",
   "execution_count": null,
   "metadata": {},
   "outputs": [],
   "source": []
  },
  {
   "cell_type": "markdown",
   "metadata": {},
   "source": [
    "### 10. Count the number of entries per author and sort them in descending order."
   ]
  },
  {
   "cell_type": "code",
   "execution_count": 24,
   "metadata": {},
   "outputs": [
    {
     "data": {
      "text/html": [
       "<div>\n",
       "<style scoped>\n",
       "    .dataframe tbody tr th:only-of-type {\n",
       "        vertical-align: middle;\n",
       "    }\n",
       "\n",
       "    .dataframe tbody tr th {\n",
       "        vertical-align: top;\n",
       "    }\n",
       "\n",
       "    .dataframe thead th {\n",
       "        text-align: right;\n",
       "    }\n",
       "</style>\n",
       "<table border=\"1\" class=\"dataframe\">\n",
       "  <thead>\n",
       "    <tr style=\"text-align: right;\">\n",
       "      <th></th>\n",
       "      <th>author</th>\n",
       "      <th>published</th>\n",
       "    </tr>\n",
       "  </thead>\n",
       "  <tbody>\n",
       "    <tr>\n",
       "      <th>0</th>\n",
       "      <td></td>\n",
       "      <td>2</td>\n",
       "    </tr>\n",
       "    <tr>\n",
       "      <th>2</th>\n",
       "      <td>Ana Guzman</td>\n",
       "      <td>2</td>\n",
       "    </tr>\n",
       "    <tr>\n",
       "      <th>1</th>\n",
       "      <td>Abby Tabor</td>\n",
       "      <td>1</td>\n",
       "    </tr>\n",
       "    <tr>\n",
       "      <th>3</th>\n",
       "      <td>Andrew Wagner</td>\n",
       "      <td>1</td>\n",
       "    </tr>\n",
       "    <tr>\n",
       "      <th>4</th>\n",
       "      <td>Jim Banke</td>\n",
       "      <td>1</td>\n",
       "    </tr>\n",
       "    <tr>\n",
       "      <th>5</th>\n",
       "      <td>Lee Mohon</td>\n",
       "      <td>1</td>\n",
       "    </tr>\n",
       "    <tr>\n",
       "      <th>6</th>\n",
       "      <td>Madison Olson</td>\n",
       "      <td>1</td>\n",
       "    </tr>\n",
       "    <tr>\n",
       "      <th>7</th>\n",
       "      <td>Tiernan P. Doyle</td>\n",
       "      <td>1</td>\n",
       "    </tr>\n",
       "  </tbody>\n",
       "</table>\n",
       "</div>"
      ],
      "text/plain": [
       "             author  published\n",
       "0                            2\n",
       "2        Ana Guzman          2\n",
       "1        Abby Tabor          1\n",
       "3     Andrew Wagner          1\n",
       "4         Jim Banke          1\n",
       "5         Lee Mohon          1\n",
       "6     Madison Olson          1\n",
       "7  Tiernan P. Doyle          1"
      ]
     },
     "execution_count": 24,
     "metadata": {},
     "output_type": "execute_result"
    }
   ],
   "source": [
    "df.groupby('author', as_index = False).agg({'published':'count'}).sort_values('published', ascending = False)"
   ]
  },
  {
   "cell_type": "markdown",
   "metadata": {},
   "source": [
    "### 11. Add a new column to the data frame that contains the length (number of characters) of each entry title. Return a data frame that contains the title, author, and title length of each entry in descending order (longest title length at the top)."
   ]
  },
  {
   "cell_type": "code",
   "execution_count": 25,
   "metadata": {},
   "outputs": [
    {
     "data": {
      "text/html": [
       "<div>\n",
       "<style scoped>\n",
       "    .dataframe tbody tr th:only-of-type {\n",
       "        vertical-align: middle;\n",
       "    }\n",
       "\n",
       "    .dataframe tbody tr th {\n",
       "        vertical-align: top;\n",
       "    }\n",
       "\n",
       "    .dataframe thead th {\n",
       "        text-align: right;\n",
       "    }\n",
       "</style>\n",
       "<table border=\"1\" class=\"dataframe\">\n",
       "  <thead>\n",
       "    <tr style=\"text-align: right;\">\n",
       "      <th></th>\n",
       "      <th>title</th>\n",
       "      <th>links</th>\n",
       "      <th>link</th>\n",
       "      <th>authors</th>\n",
       "      <th>author</th>\n",
       "      <th>published</th>\n",
       "      <th>published_parsed</th>\n",
       "      <th>tags</th>\n",
       "      <th>id</th>\n",
       "      <th>guidislink</th>\n",
       "      <th>...</th>\n",
       "      <th>author_detail.name</th>\n",
       "      <th>summary_detail.type</th>\n",
       "      <th>summary_detail.language</th>\n",
       "      <th>summary_detail.base</th>\n",
       "      <th>summary_detail.value</th>\n",
       "      <th>media_player.url</th>\n",
       "      <th>media_player.content</th>\n",
       "      <th>media_rating.scheme</th>\n",
       "      <th>media_rating.content</th>\n",
       "      <th>title_len</th>\n",
       "    </tr>\n",
       "  </thead>\n",
       "  <tbody>\n",
       "    <tr>\n",
       "      <th>0</th>\n",
       "      <td>Stellar Beads on a String</td>\n",
       "      <td>[{'rel': 'alternate', 'type': 'text/html', 'hr...</td>\n",
       "      <td>https://www.nasa.gov/image-article/stellar-bea...</td>\n",
       "      <td>[{'name': 'Lee Mohon'}]</td>\n",
       "      <td>Lee Mohon</td>\n",
       "      <td>Wed, 21 Feb 2024 17:25:50 +0000</td>\n",
       "      <td>(2024, 2, 21, 17, 25, 50, 2, 52, 0)</td>\n",
       "      <td>[{'term': 'Astrophysics', 'scheme': None, 'lab...</td>\n",
       "      <td>https://www.nasa.gov/?post_type=image-article&amp;...</td>\n",
       "      <td>False</td>\n",
       "      <td>...</td>\n",
       "      <td>Lee Mohon</td>\n",
       "      <td>text/html</td>\n",
       "      <td>None</td>\n",
       "      <td>https://www.nasa.gov/news-release/feed/</td>\n",
       "      <td>Astronomers have discovered one of the most po...</td>\n",
       "      <td>https://www.youtube.com/embed/bouQkHDXMKA</td>\n",
       "      <td></td>\n",
       "      <td>urn:simple</td>\n",
       "      <td>nonadult</td>\n",
       "      <td>25</td>\n",
       "    </tr>\n",
       "    <tr>\n",
       "      <th>1</th>\n",
       "      <td>NASA Astronomer Sees Power in Community, Works...</td>\n",
       "      <td>[{'rel': 'alternate', 'type': 'text/html', 'hr...</td>\n",
       "      <td>https://www.nasa.gov/general/nasa-astronomer-s...</td>\n",
       "      <td>[{'name': 'Abby Tabor'}]</td>\n",
       "      <td>Abby Tabor</td>\n",
       "      <td>Wed, 21 Feb 2024 17:22:18 +0000</td>\n",
       "      <td>(2024, 2, 21, 17, 22, 18, 2, 52, 0)</td>\n",
       "      <td>[{'term': 'General', 'scheme': None, 'label': ...</td>\n",
       "      <td>https://www.nasa.gov/?p=616846</td>\n",
       "      <td>False</td>\n",
       "      <td>...</td>\n",
       "      <td>Abby Tabor</td>\n",
       "      <td>text/html</td>\n",
       "      <td>None</td>\n",
       "      <td>https://www.nasa.gov/news-release/feed/</td>\n",
       "      <td>Science is often portrayed as a solitary affai...</td>\n",
       "      <td>NaN</td>\n",
       "      <td>NaN</td>\n",
       "      <td>NaN</td>\n",
       "      <td>NaN</td>\n",
       "      <td>60</td>\n",
       "    </tr>\n",
       "    <tr>\n",
       "      <th>2</th>\n",
       "      <td>Ride the Wave of Radio Astronomy During the So...</td>\n",
       "      <td>[{'rel': 'alternate', 'type': 'text/html', 'hr...</td>\n",
       "      <td>https://science.nasa.gov/solar-system/skywatch...</td>\n",
       "      <td>[{}]</td>\n",
       "      <td></td>\n",
       "      <td>Wed, 21 Feb 2024 16:24:06 +0000</td>\n",
       "      <td>(2024, 2, 21, 16, 24, 6, 2, 52, 0)</td>\n",
       "      <td>[{'term': '2024 Solar Eclipse', 'scheme': None...</td>\n",
       "      <td>https://science.nasa.gov/solar-system/skywatch...</td>\n",
       "      <td>False</td>\n",
       "      <td>...</td>\n",
       "      <td>NaN</td>\n",
       "      <td>text/html</td>\n",
       "      <td>None</td>\n",
       "      <td>https://www.nasa.gov/news-release/feed/</td>\n",
       "      <td>Students and science enthusiasts are invited t...</td>\n",
       "      <td>NaN</td>\n",
       "      <td>NaN</td>\n",
       "      <td>NaN</td>\n",
       "      <td>NaN</td>\n",
       "      <td>57</td>\n",
       "    </tr>\n",
       "    <tr>\n",
       "      <th>3</th>\n",
       "      <td>NASA Selects University Teams to Explore Innov...</td>\n",
       "      <td>[{'rel': 'alternate', 'type': 'text/html', 'hr...</td>\n",
       "      <td>https://www.nasa.gov/aeronautics/university-te...</td>\n",
       "      <td>[{'name': 'Jim Banke'}]</td>\n",
       "      <td>Jim Banke</td>\n",
       "      <td>Wed, 21 Feb 2024 05:50:33 +0000</td>\n",
       "      <td>(2024, 2, 21, 5, 50, 33, 2, 52, 0)</td>\n",
       "      <td>[{'term': 'Aeronautics', 'scheme': None, 'labe...</td>\n",
       "      <td>https://www.nasa.gov/?p=617878</td>\n",
       "      <td>False</td>\n",
       "      <td>...</td>\n",
       "      <td>Jim Banke</td>\n",
       "      <td>text/html</td>\n",
       "      <td>None</td>\n",
       "      <td>https://www.nasa.gov/news-release/feed/</td>\n",
       "      <td>NASA has selected another five university team...</td>\n",
       "      <td>NaN</td>\n",
       "      <td>NaN</td>\n",
       "      <td>NaN</td>\n",
       "      <td>NaN</td>\n",
       "      <td>73</td>\n",
       "    </tr>\n",
       "    <tr>\n",
       "      <th>4</th>\n",
       "      <td>Become a SunSketcher, and Help Measure the Sha...</td>\n",
       "      <td>[{'rel': 'alternate', 'type': 'text/html', 'hr...</td>\n",
       "      <td>https://science.nasa.gov/get-involved/citizen-...</td>\n",
       "      <td>[{}]</td>\n",
       "      <td></td>\n",
       "      <td>Tue, 20 Feb 2024 21:35:49 +0000</td>\n",
       "      <td>(2024, 2, 20, 21, 35, 49, 1, 51, 0)</td>\n",
       "      <td>[{'term': 'Citizen Science', 'scheme': None, '...</td>\n",
       "      <td>https://science.nasa.gov/get-involved/citizen-...</td>\n",
       "      <td>False</td>\n",
       "      <td>...</td>\n",
       "      <td>NaN</td>\n",
       "      <td>text/html</td>\n",
       "      <td>None</td>\n",
       "      <td>https://www.nasa.gov/news-release/feed/</td>\n",
       "      <td>What shape Is the Sun? Hint: it’s not perfectl...</td>\n",
       "      <td>NaN</td>\n",
       "      <td>NaN</td>\n",
       "      <td>NaN</td>\n",
       "      <td>NaN</td>\n",
       "      <td>60</td>\n",
       "    </tr>\n",
       "  </tbody>\n",
       "</table>\n",
       "<p>5 rows × 30 columns</p>\n",
       "</div>"
      ],
      "text/plain": [
       "                                               title  \\\n",
       "0                          Stellar Beads on a String   \n",
       "1  NASA Astronomer Sees Power in Community, Works...   \n",
       "2  Ride the Wave of Radio Astronomy During the So...   \n",
       "3  NASA Selects University Teams to Explore Innov...   \n",
       "4  Become a SunSketcher, and Help Measure the Sha...   \n",
       "\n",
       "                                               links  \\\n",
       "0  [{'rel': 'alternate', 'type': 'text/html', 'hr...   \n",
       "1  [{'rel': 'alternate', 'type': 'text/html', 'hr...   \n",
       "2  [{'rel': 'alternate', 'type': 'text/html', 'hr...   \n",
       "3  [{'rel': 'alternate', 'type': 'text/html', 'hr...   \n",
       "4  [{'rel': 'alternate', 'type': 'text/html', 'hr...   \n",
       "\n",
       "                                                link  \\\n",
       "0  https://www.nasa.gov/image-article/stellar-bea...   \n",
       "1  https://www.nasa.gov/general/nasa-astronomer-s...   \n",
       "2  https://science.nasa.gov/solar-system/skywatch...   \n",
       "3  https://www.nasa.gov/aeronautics/university-te...   \n",
       "4  https://science.nasa.gov/get-involved/citizen-...   \n",
       "\n",
       "                    authors      author                        published  \\\n",
       "0   [{'name': 'Lee Mohon'}]   Lee Mohon  Wed, 21 Feb 2024 17:25:50 +0000   \n",
       "1  [{'name': 'Abby Tabor'}]  Abby Tabor  Wed, 21 Feb 2024 17:22:18 +0000   \n",
       "2                      [{}]              Wed, 21 Feb 2024 16:24:06 +0000   \n",
       "3   [{'name': 'Jim Banke'}]   Jim Banke  Wed, 21 Feb 2024 05:50:33 +0000   \n",
       "4                      [{}]              Tue, 20 Feb 2024 21:35:49 +0000   \n",
       "\n",
       "                      published_parsed  \\\n",
       "0  (2024, 2, 21, 17, 25, 50, 2, 52, 0)   \n",
       "1  (2024, 2, 21, 17, 22, 18, 2, 52, 0)   \n",
       "2   (2024, 2, 21, 16, 24, 6, 2, 52, 0)   \n",
       "3   (2024, 2, 21, 5, 50, 33, 2, 52, 0)   \n",
       "4  (2024, 2, 20, 21, 35, 49, 1, 51, 0)   \n",
       "\n",
       "                                                tags  \\\n",
       "0  [{'term': 'Astrophysics', 'scheme': None, 'lab...   \n",
       "1  [{'term': 'General', 'scheme': None, 'label': ...   \n",
       "2  [{'term': '2024 Solar Eclipse', 'scheme': None...   \n",
       "3  [{'term': 'Aeronautics', 'scheme': None, 'labe...   \n",
       "4  [{'term': 'Citizen Science', 'scheme': None, '...   \n",
       "\n",
       "                                                  id  guidislink  ...  \\\n",
       "0  https://www.nasa.gov/?post_type=image-article&...       False  ...   \n",
       "1                     https://www.nasa.gov/?p=616846       False  ...   \n",
       "2  https://science.nasa.gov/solar-system/skywatch...       False  ...   \n",
       "3                     https://www.nasa.gov/?p=617878       False  ...   \n",
       "4  https://science.nasa.gov/get-involved/citizen-...       False  ...   \n",
       "\n",
       "  author_detail.name summary_detail.type summary_detail.language  \\\n",
       "0          Lee Mohon           text/html                    None   \n",
       "1         Abby Tabor           text/html                    None   \n",
       "2                NaN           text/html                    None   \n",
       "3          Jim Banke           text/html                    None   \n",
       "4                NaN           text/html                    None   \n",
       "\n",
       "                       summary_detail.base  \\\n",
       "0  https://www.nasa.gov/news-release/feed/   \n",
       "1  https://www.nasa.gov/news-release/feed/   \n",
       "2  https://www.nasa.gov/news-release/feed/   \n",
       "3  https://www.nasa.gov/news-release/feed/   \n",
       "4  https://www.nasa.gov/news-release/feed/   \n",
       "\n",
       "                                summary_detail.value  \\\n",
       "0  Astronomers have discovered one of the most po...   \n",
       "1  Science is often portrayed as a solitary affai...   \n",
       "2  Students and science enthusiasts are invited t...   \n",
       "3  NASA has selected another five university team...   \n",
       "4  What shape Is the Sun? Hint: it’s not perfectl...   \n",
       "\n",
       "                            media_player.url media_player.content  \\\n",
       "0  https://www.youtube.com/embed/bouQkHDXMKA                        \n",
       "1                                        NaN                  NaN   \n",
       "2                                        NaN                  NaN   \n",
       "3                                        NaN                  NaN   \n",
       "4                                        NaN                  NaN   \n",
       "\n",
       "  media_rating.scheme media_rating.content title_len  \n",
       "0          urn:simple             nonadult        25  \n",
       "1                 NaN                  NaN        60  \n",
       "2                 NaN                  NaN        57  \n",
       "3                 NaN                  NaN        73  \n",
       "4                 NaN                  NaN        60  \n",
       "\n",
       "[5 rows x 30 columns]"
      ]
     },
     "execution_count": 25,
     "metadata": {},
     "output_type": "execute_result"
    }
   ],
   "source": [
    "df['title_len'] = [len(nasa.entries[i].title) for i in range(len(nasa.entries))]\n",
    "df.head()"
   ]
  },
  {
   "cell_type": "code",
   "execution_count": 26,
   "metadata": {},
   "outputs": [
    {
     "data": {
      "text/html": [
       "<div>\n",
       "<style scoped>\n",
       "    .dataframe tbody tr th:only-of-type {\n",
       "        vertical-align: middle;\n",
       "    }\n",
       "\n",
       "    .dataframe tbody tr th {\n",
       "        vertical-align: top;\n",
       "    }\n",
       "\n",
       "    .dataframe thead th {\n",
       "        text-align: right;\n",
       "    }\n",
       "</style>\n",
       "<table border=\"1\" class=\"dataframe\">\n",
       "  <thead>\n",
       "    <tr style=\"text-align: right;\">\n",
       "      <th></th>\n",
       "      <th>title</th>\n",
       "      <th>author</th>\n",
       "      <th>title_len</th>\n",
       "    </tr>\n",
       "  </thead>\n",
       "  <tbody>\n",
       "    <tr>\n",
       "      <th>3</th>\n",
       "      <td>NASA Selects University Teams to Explore Innov...</td>\n",
       "      <td>Jim Banke</td>\n",
       "      <td>73</td>\n",
       "    </tr>\n",
       "    <tr>\n",
       "      <th>8</th>\n",
       "      <td>2023 Annual Highlights of Results from the Int...</td>\n",
       "      <td>Ana Guzman</td>\n",
       "      <td>70</td>\n",
       "    </tr>\n",
       "    <tr>\n",
       "      <th>5</th>\n",
       "      <td>NASA Sets Coverage of First US Uncrewed Commer...</td>\n",
       "      <td>Tiernan P. Doyle</td>\n",
       "      <td>63</td>\n",
       "    </tr>\n",
       "    <tr>\n",
       "      <th>1</th>\n",
       "      <td>NASA Astronomer Sees Power in Community, Works...</td>\n",
       "      <td>Abby Tabor</td>\n",
       "      <td>60</td>\n",
       "    </tr>\n",
       "    <tr>\n",
       "      <th>4</th>\n",
       "      <td>Become a SunSketcher, and Help Measure the Sha...</td>\n",
       "      <td></td>\n",
       "      <td>60</td>\n",
       "    </tr>\n",
       "  </tbody>\n",
       "</table>\n",
       "</div>"
      ],
      "text/plain": [
       "                                               title            author  \\\n",
       "3  NASA Selects University Teams to Explore Innov...         Jim Banke   \n",
       "8  2023 Annual Highlights of Results from the Int...        Ana Guzman   \n",
       "5  NASA Sets Coverage of First US Uncrewed Commer...  Tiernan P. Doyle   \n",
       "1  NASA Astronomer Sees Power in Community, Works...        Abby Tabor   \n",
       "4  Become a SunSketcher, and Help Measure the Sha...                     \n",
       "\n",
       "   title_len  \n",
       "3         73  \n",
       "8         70  \n",
       "5         63  \n",
       "1         60  \n",
       "4         60  "
      ]
     },
     "execution_count": 26,
     "metadata": {},
     "output_type": "execute_result"
    }
   ],
   "source": [
    "df_new = df[['title', 'author', 'title_len']].sort_values('title_len', ascending = False)\n",
    "df_new.head()\n",
    "\n"
   ]
  },
  {
   "cell_type": "markdown",
   "metadata": {},
   "source": [
    "### 12. Create a list of entry titles whose summary includes the phrase \"machine learning.\""
   ]
  },
  {
   "cell_type": "code",
   "execution_count": 18,
   "metadata": {},
   "outputs": [
    {
     "data": {
      "text/plain": [
       "'Stellar Beads on a String'"
      ]
     },
     "execution_count": 18,
     "metadata": {},
     "output_type": "execute_result"
    }
   ],
   "source": [
    "df.title[0]"
   ]
  },
  {
   "cell_type": "code",
   "execution_count": 19,
   "metadata": {},
   "outputs": [
    {
     "data": {
      "text/plain": [
       "'NASA Astronomer Sees Power in Community, Works to Build More'"
      ]
     },
     "execution_count": 19,
     "metadata": {},
     "output_type": "execute_result"
    }
   ],
   "source": [
    "df.title[1]"
   ]
  },
  {
   "cell_type": "code",
   "execution_count": 20,
   "metadata": {},
   "outputs": [
    {
     "name": "stdout",
     "output_type": "stream",
     "text": [
      "[]\n"
     ]
    }
   ],
   "source": [
    "lst = []\n",
    "\n",
    "for i in df.title:\n",
    "    if 'machine learning' in i.lower():\n",
    "        lst.append(i)\n",
    "print(lst)        "
   ]
  }
 ],
 "metadata": {
  "kernelspec": {
   "display_name": "Python 3 (ipykernel)",
   "language": "python",
   "name": "python3"
  },
  "language_info": {
   "codemirror_mode": {
    "name": "ipython",
    "version": 3
   },
   "file_extension": ".py",
   "mimetype": "text/x-python",
   "name": "python",
   "nbconvert_exporter": "python",
   "pygments_lexer": "ipython3",
   "version": "3.11.5"
  }
 },
 "nbformat": 4,
 "nbformat_minor": 2
}
