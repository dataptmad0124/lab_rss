{
 "cells": [
  {
   "cell_type": "markdown",
   "metadata": {},
   "source": [
    "# Working with RSS Feeds Lab\n",
    "\n",
    "Complete the following set of exercises to solidify your knowledge of parsing RSS feeds and extracting information from them."
   ]
  },
  {
   "cell_type": "code",
   "execution_count": 1,
   "metadata": {},
   "outputs": [],
   "source": [
    "import feedparser"
   ]
  },
  {
   "cell_type": "markdown",
   "metadata": {},
   "source": [
    "### 1. Use feedparser to parse the following RSS feed URL."
   ]
  },
  {
   "cell_type": "code",
   "execution_count": 2,
   "metadata": {},
   "outputs": [],
   "source": [
    "reddit = feedparser.parse(\"https://www.reddit.com/r/news/.rss\")"
   ]
  },
  {
   "cell_type": "markdown",
   "metadata": {},
   "source": [
    "### 2. Obtain a list of components (keys) that are available for this feed."
   ]
  },
  {
   "cell_type": "code",
   "execution_count": 3,
   "metadata": {},
   "outputs": [
    {
     "data": {
      "text/plain": [
       "dict_keys(['bozo', 'entries', 'feed', 'headers', 'href', 'status', 'encoding', 'version', 'namespaces'])"
      ]
     },
     "execution_count": 3,
     "metadata": {},
     "output_type": "execute_result"
    }
   ],
   "source": [
    "reddit.keys()"
   ]
  },
  {
   "cell_type": "code",
   "execution_count": 16,
   "metadata": {},
   "outputs": [
    {
     "data": {
      "text/plain": [
       "{'authors': [{'name': '/u/a_dogs_mother',\n",
       "   'href': 'https://www.reddit.com/user/a_dogs_mother'}],\n",
       " 'author_detail': {'name': '/u/a_dogs_mother',\n",
       "  'href': 'https://www.reddit.com/user/a_dogs_mother'},\n",
       " 'href': 'https://www.reddit.com/user/a_dogs_mother',\n",
       " 'author': '/u/a_dogs_mother',\n",
       " 'tags': [{'term': 'news', 'scheme': None, 'label': 'r/news'}],\n",
       " 'content': [{'type': 'text/html',\n",
       "   'language': None,\n",
       "   'base': 'https://www.reddit.com/r/news/.rss',\n",
       "   'value': '&#32; submitted by &#32; <a href=\"https://www.reddit.com/user/a_dogs_mother\"> /u/a_dogs_mother </a> <br /> <span><a href=\"https://apnews.com/article/michael-sparks-kentucky-capitol-riot-trial-3d8757fc92f492b2ac181725ff427a48\">[link]</a></span> &#32; <span><a href=\"https://www.reddit.com/r/news/comments/1b49ht7/jury_convicts_first_rioter_to_enter_capitol/\">[comments]</a></span>'}],\n",
       " 'summary': '&#32; submitted by &#32; <a href=\"https://www.reddit.com/user/a_dogs_mother\"> /u/a_dogs_mother </a> <br /> <span><a href=\"https://apnews.com/article/michael-sparks-kentucky-capitol-riot-trial-3d8757fc92f492b2ac181725ff427a48\">[link]</a></span> &#32; <span><a href=\"https://www.reddit.com/r/news/comments/1b49ht7/jury_convicts_first_rioter_to_enter_capitol/\">[comments]</a></span>',\n",
       " 'id': 'https://www.reddit.com/r/news/t3_1b49ht7',\n",
       " 'guidislink': True,\n",
       " 'link': 'https://www.reddit.com/r/news/comments/1b49ht7/jury_convicts_first_rioter_to_enter_capitol/',\n",
       " 'links': [{'href': 'https://www.reddit.com/r/news/comments/1b49ht7/jury_convicts_first_rioter_to_enter_capitol/',\n",
       "   'rel': 'alternate',\n",
       "   'type': 'text/html'}],\n",
       " 'updated': '2024-03-01T23:44:54+00:00',\n",
       " 'updated_parsed': time.struct_time(tm_year=2024, tm_mon=3, tm_mday=1, tm_hour=23, tm_min=44, tm_sec=54, tm_wday=4, tm_yday=61, tm_isdst=0),\n",
       " 'published': '2024-03-01T23:44:54+00:00',\n",
       " 'published_parsed': time.struct_time(tm_year=2024, tm_mon=3, tm_mday=1, tm_hour=23, tm_min=44, tm_sec=54, tm_wday=4, tm_yday=61, tm_isdst=0),\n",
       " 'title': 'Jury convicts first rioter to enter Capitol building during Jan. 6 attack',\n",
       " 'title_detail': {'type': 'text/plain',\n",
       "  'language': None,\n",
       "  'base': 'https://www.reddit.com/r/news/.rss',\n",
       "  'value': 'Jury convicts first rioter to enter Capitol building during Jan. 6 attack'}}"
      ]
     },
     "execution_count": 16,
     "metadata": {},
     "output_type": "execute_result"
    }
   ],
   "source": [
    "reddit[\"entries\"][0]"
   ]
  },
  {
   "cell_type": "markdown",
   "metadata": {},
   "source": [
    "### 3. Obtain a list of components (keys) that are available for the *feed* component of this RSS feed."
   ]
  },
  {
   "cell_type": "code",
   "execution_count": 10,
   "metadata": {},
   "outputs": [
    {
     "data": {
      "text/plain": [
       "{'tags': [{'term': 'news', 'scheme': None, 'label': 'r/news'}],\n",
       " 'updated': '2024-03-02T10:20:18+00:00',\n",
       " 'updated_parsed': time.struct_time(tm_year=2024, tm_mon=3, tm_mday=2, tm_hour=10, tm_min=20, tm_sec=18, tm_wday=5, tm_yday=62, tm_isdst=0),\n",
       " 'icon': 'https://www.redditstatic.com/icon.png/',\n",
       " 'id': 'https://www.reddit.com/r/news/.rss',\n",
       " 'guidislink': True,\n",
       " 'link': 'https://www.reddit.com/r/news/',\n",
       " 'links': [{'rel': 'self',\n",
       "   'href': 'https://www.reddit.com/r/news/.rss',\n",
       "   'type': 'application/atom+xml'},\n",
       "  {'rel': 'alternate',\n",
       "   'href': 'https://www.reddit.com/r/news/',\n",
       "   'type': 'text/html'}],\n",
       " 'logo': 'https://a.thumbs.redditmedia.com/d1huQb5y8kISty2ax02MmO7pK5uVJt1pGuSqOiOjIl0.png',\n",
       " 'subtitle': 'The place for news articles about current events in the United States and the rest of the world. Discuss it all here.',\n",
       " 'subtitle_detail': {'type': 'text/plain',\n",
       "  'language': None,\n",
       "  'base': 'https://www.reddit.com/r/news/.rss',\n",
       "  'value': 'The place for news articles about current events in the United States and the rest of the world. Discuss it all here.'},\n",
       " 'title': 'News',\n",
       " 'title_detail': {'type': 'text/plain',\n",
       "  'language': None,\n",
       "  'base': 'https://www.reddit.com/r/news/.rss',\n",
       "  'value': 'News'}}"
      ]
     },
     "execution_count": 10,
     "metadata": {},
     "output_type": "execute_result"
    }
   ],
   "source": [
    "reddit[\"feed\"]"
   ]
  },
  {
   "cell_type": "markdown",
   "metadata": {},
   "source": [
    "### 4. Extract and print the feed title, subtitle, author, and link."
   ]
  },
  {
   "cell_type": "code",
   "execution_count": 21,
   "metadata": {},
   "outputs": [
    {
     "name": "stdout",
     "output_type": "stream",
     "text": [
      "News\n",
      "The place for news articles about current events in the United States and the rest of the world. Discuss it all here.\n",
      " a_dogs_mother\n",
      "https://www.reddit.com/r/news/comments/1b49ht7/jury_convicts_first_rioter_to_enter_capitol/\n"
     ]
    }
   ],
   "source": [
    "title = reddit[\"feed\"][\"title\"]\n",
    "subtitle = reddit[\"feed\"][\"subtitle\"]\n",
    "author = reddit[\"entries\"][0][\"author\"].replace(\"/u/\", \" \")\n",
    "link = reddit[\"entries\"][0][\"link\"]\n",
    "print(title)\n",
    "print(subtitle)\n",
    "print(author)\n",
    "print(link)"
   ]
  },
  {
   "cell_type": "markdown",
   "metadata": {},
   "source": [
    "### 5. Count the number of entries that are contained in this RSS feed."
   ]
  },
  {
   "cell_type": "code",
   "execution_count": 24,
   "metadata": {},
   "outputs": [
    {
     "name": "stdout",
     "output_type": "stream",
     "text": [
      "25\n"
     ]
    }
   ],
   "source": [
    "entries = len(reddit[\"entries\"])\n",
    "print(entries)"
   ]
  },
  {
   "cell_type": "markdown",
   "metadata": {},
   "source": [
    "### 6. Obtain a list of components (keys) available for an entry.\n",
    "\n",
    "*Hint: Remember to index first before requesting the keys*"
   ]
  },
  {
   "cell_type": "code",
   "execution_count": 26,
   "metadata": {},
   "outputs": [
    {
     "name": "stdout",
     "output_type": "stream",
     "text": [
      "['authors', 'author_detail', 'href', 'author', 'tags', 'content', 'summary', 'id', 'guidislink', 'link', 'links', 'updated', 'updated_parsed', 'published', 'published_parsed', 'title', 'title_detail']\n"
     ]
    }
   ],
   "source": [
    "lst = reddit[\"entries\"][0]\n",
    "print(list(lst))"
   ]
  },
  {
   "cell_type": "markdown",
   "metadata": {},
   "source": [
    "### 7. Extract a list of entry titles."
   ]
  },
  {
   "cell_type": "code",
   "execution_count": 91,
   "metadata": {},
   "outputs": [
    {
     "data": {
      "text/plain": [
       "['Jury convicts first rioter to enter Capitol building during Jan. 6 attack',\n",
       " 'Jury convicts first rioter to enter Capitol building during Jan. 6 attack',\n",
       " 'Jury convicts first rioter to enter Capitol building during Jan. 6 attack',\n",
       " 'Jury convicts first rioter to enter Capitol building during Jan. 6 attack',\n",
       " 'Jury convicts first rioter to enter Capitol building during Jan. 6 attack',\n",
       " 'Jury convicts first rioter to enter Capitol building during Jan. 6 attack',\n",
       " 'Jury convicts first rioter to enter Capitol building during Jan. 6 attack',\n",
       " 'Jury convicts first rioter to enter Capitol building during Jan. 6 attack',\n",
       " 'Jury convicts first rioter to enter Capitol building during Jan. 6 attack',\n",
       " 'Jury convicts first rioter to enter Capitol building during Jan. 6 attack',\n",
       " 'Jury convicts first rioter to enter Capitol building during Jan. 6 attack',\n",
       " 'Jury convicts first rioter to enter Capitol building during Jan. 6 attack',\n",
       " 'Jury convicts first rioter to enter Capitol building during Jan. 6 attack',\n",
       " 'Jury convicts first rioter to enter Capitol building during Jan. 6 attack',\n",
       " 'Jury convicts first rioter to enter Capitol building during Jan. 6 attack',\n",
       " 'Jury convicts first rioter to enter Capitol building during Jan. 6 attack',\n",
       " 'Jury convicts first rioter to enter Capitol building during Jan. 6 attack',\n",
       " 'Jury convicts first rioter to enter Capitol building during Jan. 6 attack',\n",
       " 'Jury convicts first rioter to enter Capitol building during Jan. 6 attack',\n",
       " 'Jury convicts first rioter to enter Capitol building during Jan. 6 attack',\n",
       " 'Jury convicts first rioter to enter Capitol building during Jan. 6 attack',\n",
       " 'Jury convicts first rioter to enter Capitol building during Jan. 6 attack',\n",
       " 'Jury convicts first rioter to enter Capitol building during Jan. 6 attack',\n",
       " 'Jury convicts first rioter to enter Capitol building during Jan. 6 attack',\n",
       " 'Jury convicts first rioter to enter Capitol building during Jan. 6 attack',\n",
       " 'Jury convicts first rioter to enter Capitol building during Jan. 6 attack',\n",
       " 'Jury convicts first rioter to enter Capitol building during Jan. 6 attack',\n",
       " 'Jury convicts first rioter to enter Capitol building during Jan. 6 attack',\n",
       " 'Jury convicts first rioter to enter Capitol building during Jan. 6 attack',\n",
       " 'Jury convicts first rioter to enter Capitol building during Jan. 6 attack',\n",
       " 'Jury convicts first rioter to enter Capitol building during Jan. 6 attack',\n",
       " 'Jury convicts first rioter to enter Capitol building during Jan. 6 attack',\n",
       " 'Jury convicts first rioter to enter Capitol building during Jan. 6 attack',\n",
       " 'Jury convicts first rioter to enter Capitol building during Jan. 6 attack',\n",
       " 'Jury convicts first rioter to enter Capitol building during Jan. 6 attack',\n",
       " 'Jury convicts first rioter to enter Capitol building during Jan. 6 attack',\n",
       " 'Jury convicts first rioter to enter Capitol building during Jan. 6 attack',\n",
       " 'Jury convicts first rioter to enter Capitol building during Jan. 6 attack',\n",
       " 'Jury convicts first rioter to enter Capitol building during Jan. 6 attack',\n",
       " 'Jury convicts first rioter to enter Capitol building during Jan. 6 attack',\n",
       " 'Jury convicts first rioter to enter Capitol building during Jan. 6 attack',\n",
       " 'Jury convicts first rioter to enter Capitol building during Jan. 6 attack',\n",
       " 'Jury convicts first rioter to enter Capitol building during Jan. 6 attack',\n",
       " 'Jury convicts first rioter to enter Capitol building during Jan. 6 attack',\n",
       " 'Jury convicts first rioter to enter Capitol building during Jan. 6 attack',\n",
       " 'Jury convicts first rioter to enter Capitol building during Jan. 6 attack',\n",
       " 'Jury convicts first rioter to enter Capitol building during Jan. 6 attack',\n",
       " 'Jury convicts first rioter to enter Capitol building during Jan. 6 attack',\n",
       " 'Jury convicts first rioter to enter Capitol building during Jan. 6 attack',\n",
       " 'Jury convicts first rioter to enter Capitol building during Jan. 6 attack',\n",
       " 'Jury convicts first rioter to enter Capitol building during Jan. 6 attack',\n",
       " 'Jury convicts first rioter to enter Capitol building during Jan. 6 attack',\n",
       " 'Jury convicts first rioter to enter Capitol building during Jan. 6 attack',\n",
       " 'Jury convicts first rioter to enter Capitol building during Jan. 6 attack',\n",
       " 'Jury convicts first rioter to enter Capitol building during Jan. 6 attack',\n",
       " 'Jury convicts first rioter to enter Capitol building during Jan. 6 attack',\n",
       " 'Jury convicts first rioter to enter Capitol building during Jan. 6 attack',\n",
       " 'Jury convicts first rioter to enter Capitol building during Jan. 6 attack',\n",
       " 'Jury convicts first rioter to enter Capitol building during Jan. 6 attack',\n",
       " 'Jury convicts first rioter to enter Capitol building during Jan. 6 attack',\n",
       " 'Jury convicts first rioter to enter Capitol building during Jan. 6 attack',\n",
       " 'Jury convicts first rioter to enter Capitol building during Jan. 6 attack',\n",
       " 'Jury convicts first rioter to enter Capitol building during Jan. 6 attack',\n",
       " 'Jury convicts first rioter to enter Capitol building during Jan. 6 attack',\n",
       " 'Jury convicts first rioter to enter Capitol building during Jan. 6 attack',\n",
       " 'Jury convicts first rioter to enter Capitol building during Jan. 6 attack',\n",
       " 'Jury convicts first rioter to enter Capitol building during Jan. 6 attack',\n",
       " 'Jury convicts first rioter to enter Capitol building during Jan. 6 attack',\n",
       " 'Jury convicts first rioter to enter Capitol building during Jan. 6 attack',\n",
       " 'Jury convicts first rioter to enter Capitol building during Jan. 6 attack',\n",
       " 'Jury convicts first rioter to enter Capitol building during Jan. 6 attack',\n",
       " 'Jury convicts first rioter to enter Capitol building during Jan. 6 attack',\n",
       " 'Jury convicts first rioter to enter Capitol building during Jan. 6 attack']"
      ]
     },
     "execution_count": 91,
     "metadata": {},
     "output_type": "execute_result"
    }
   ],
   "source": [
    "data = reddit[\"entries\"][0][\"title\"]\n",
    "datos = []\n",
    "index = 0\n",
    "for i in data:\n",
    "    datos.append(data)\n",
    "    \n",
    "    \n",
    "datos"
   ]
  },
  {
   "cell_type": "markdown",
   "metadata": {},
   "source": [
    "### 8. Calculate the percentage of \"Four short links\" entry titles."
   ]
  },
  {
   "cell_type": "code",
   "execution_count": null,
   "metadata": {},
   "outputs": [],
   "source": []
  },
  {
   "cell_type": "markdown",
   "metadata": {},
   "source": [
    "### 9. Create a Pandas data frame from the feed's entries."
   ]
  },
  {
   "cell_type": "code",
   "execution_count": null,
   "metadata": {},
   "outputs": [],
   "source": []
  },
  {
   "cell_type": "code",
   "execution_count": null,
   "metadata": {},
   "outputs": [],
   "source": []
  },
  {
   "cell_type": "markdown",
   "metadata": {},
   "source": [
    "### 10. Count the number of entries per author and sort them in descending order."
   ]
  },
  {
   "cell_type": "code",
   "execution_count": 53,
   "metadata": {},
   "outputs": [
    {
     "data": {
      "text/plain": [
       "14"
      ]
     },
     "execution_count": 53,
     "metadata": {},
     "output_type": "execute_result"
    }
   ],
   "source": [
    "author_entries = reddit[\"entries\"][0][\"authors\"][0][\"name\"].replace(\"/u/\", \" \")\n",
    "len(author_entries)"
   ]
  },
  {
   "cell_type": "markdown",
   "metadata": {},
   "source": [
    "### 11. Add a new column to the data frame that contains the length (number of characters) of each entry title. Return a data frame that contains the title, author, and title length of each entry in descending order (longest title length at the top)."
   ]
  },
  {
   "cell_type": "code",
   "execution_count": null,
   "metadata": {},
   "outputs": [],
   "source": []
  },
  {
   "cell_type": "markdown",
   "metadata": {},
   "source": [
    "### 12. Create a list of entry titles whose summary includes the phrase \"machine learning.\""
   ]
  },
  {
   "cell_type": "code",
   "execution_count": null,
   "metadata": {},
   "outputs": [],
   "source": []
  },
  {
   "cell_type": "code",
   "execution_count": null,
   "metadata": {},
   "outputs": [],
   "source": []
  }
 ],
 "metadata": {
  "kernelspec": {
   "display_name": "Python 3 (ipykernel)",
   "language": "python",
   "name": "python3"
  },
  "language_info": {
   "codemirror_mode": {
    "name": "ipython",
    "version": 3
   },
   "file_extension": ".py",
   "mimetype": "text/x-python",
   "name": "python",
   "nbconvert_exporter": "python",
   "pygments_lexer": "ipython3",
   "version": "3.11.5"
  }
 },
 "nbformat": 4,
 "nbformat_minor": 2
}
