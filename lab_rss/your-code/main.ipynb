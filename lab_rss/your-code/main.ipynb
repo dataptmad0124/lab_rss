{
 "cells": [
  {
   "cell_type": "markdown",
   "metadata": {},
   "source": [
    "# Working with RSS Feeds Lab\n",
    "\n",
    "Complete the following set of exercises to solidify your knowledge of parsing RSS feeds and extracting information from them."
   ]
  },
  {
   "cell_type": "code",
   "execution_count": 20,
   "metadata": {},
   "outputs": [],
   "source": [
    "import feedparser\n"
   ]
  },
  {
   "cell_type": "markdown",
   "metadata": {},
   "source": [
    "### 1. Use feedparser to parse the following RSS feed URL."
   ]
  },
  {
   "cell_type": "code",
   "execution_count": 3,
   "metadata": {},
   "outputs": [],
   "source": [
    "nasa = feedparser.parse('https://www.nasa.gov/news-release/feed/')"
   ]
  },
  {
   "cell_type": "code",
   "execution_count": 7,
   "metadata": {},
   "outputs": [
    {
     "name": "stdout",
     "output_type": "stream",
     "text": [
      "{'title': 'NASA', 'title_detail': {'type': 'text/plain', 'language': None, 'base': 'https://www.nasa.gov/news-release/feed/', 'value': 'NASA'}, 'links': [{'href': 'https://www.nasa.gov/news-release/feed/', 'rel': 'self', 'type': 'application/rss+xml'}, {'rel': 'alternate', 'type': 'text/html', 'href': 'https://www.nasa.gov'}], 'link': 'https://www.nasa.gov', 'subtitle': 'Official National Aeronautics and Space Administration Website', 'subtitle_detail': {'type': 'text/html', 'language': None, 'base': 'https://www.nasa.gov/news-release/feed/', 'value': 'Official National Aeronautics and Space Administration Website'}, 'updated': 'Wed, 21 Feb 2024 13:53:53 +0000', 'updated_parsed': time.struct_time(tm_year=2024, tm_mon=2, tm_mday=21, tm_hour=13, tm_min=53, tm_sec=53, tm_wday=2, tm_yday=52, tm_isdst=0), 'language': 'en-US', 'sy_updateperiod': 'hourly', 'sy_updatefrequency': '1', 'generator_detail': {'name': 'https://wordpress.org/?v=6.3.3'}, 'generator': 'https://wordpress.org/?v=6.3.3'}\n"
     ]
    }
   ],
   "source": [
    "print(nasa['feed'])"
   ]
  },
  {
   "cell_type": "markdown",
   "metadata": {},
   "source": [
    "### 2. Obtain a list of components (keys) that are available for this feed."
   ]
  },
  {
   "cell_type": "code",
   "execution_count": 5,
   "metadata": {},
   "outputs": [
    {
     "data": {
      "text/plain": [
       "dict_keys(['bozo', 'entries', 'feed', 'headers', 'etag', 'updated', 'updated_parsed', 'href', 'status', 'encoding', 'version', 'namespaces'])"
      ]
     },
     "execution_count": 5,
     "metadata": {},
     "output_type": "execute_result"
    }
   ],
   "source": [
    "nasa.keys()"
   ]
  },
  {
   "cell_type": "markdown",
   "metadata": {},
   "source": [
    "### 3. Obtain a list of components (keys) that are available for the *feed* component of this RSS feed."
   ]
  },
  {
   "cell_type": "code",
   "execution_count": 10,
   "metadata": {},
   "outputs": [
    {
     "data": {
      "text/plain": [
       "dict_keys(['title', 'title_detail', 'links', 'link', 'subtitle', 'subtitle_detail', 'updated', 'updated_parsed', 'language', 'sy_updateperiod', 'sy_updatefrequency', 'generator_detail', 'generator'])"
      ]
     },
     "execution_count": 10,
     "metadata": {},
     "output_type": "execute_result"
    }
   ],
   "source": [
    "#nasa['feed'].keys()\n",
    "nasa.feed.keys()"
   ]
  },
  {
   "cell_type": "markdown",
   "metadata": {},
   "source": [
    "### 4. Extract and print the feed title, subtitle, author, and link."
   ]
  },
  {
   "cell_type": "code",
   "execution_count": 24,
   "metadata": {},
   "outputs": [
    {
     "name": "stdout",
     "output_type": "stream",
     "text": [
      "NASA Official National Aeronautics and Space Administration Website https://www.nasa.gov\n"
     ]
    },
    {
     "data": {
      "text/plain": [
       "\"\\n# Extraer los valores de las claves\\n\\ntitle = nasa_feed.get('title')\\nsubtitle = nasa_feed.get('subtitle')\\nlink = nasa_feed.get('link')\\n\\n\""
      ]
     },
     "execution_count": 24,
     "metadata": {},
     "output_type": "execute_result"
    }
   ],
   "source": [
    "#feed_nasa = nasa['feed'][['title']['subtitle']['link']]\n",
    "\n",
    "print(nasa['feed']['title'], nasa['feed']['subtitle'], nasa['feed']['link'])\n"
   ]
  },
  {
   "cell_type": "markdown",
   "metadata": {},
   "source": [
    "### 5. Count the number of entries that are contained in this RSS feed."
   ]
  },
  {
   "cell_type": "code",
   "execution_count": 25,
   "metadata": {},
   "outputs": [
    {
     "data": {
      "text/plain": [
       "10"
      ]
     },
     "execution_count": 25,
     "metadata": {},
     "output_type": "execute_result"
    }
   ],
   "source": [
    "len(nasa['entries'])"
   ]
  },
  {
   "cell_type": "markdown",
   "metadata": {},
   "source": [
    "### 6. Obtain a list of components (keys) available for an entry.\n",
    "\n",
    "*Hint: Remember to index first before requesting the keys*"
   ]
  },
  {
   "cell_type": "code",
   "execution_count": 26,
   "metadata": {},
   "outputs": [
    {
     "data": {
      "text/plain": [
       "dict_keys(['title', 'title_detail', 'links', 'link', 'authors', 'author', 'author_detail', 'published', 'published_parsed', 'tags', 'id', 'guidislink', 'summary', 'summary_detail', 'content'])"
      ]
     },
     "execution_count": 26,
     "metadata": {},
     "output_type": "execute_result"
    }
   ],
   "source": [
    "nasa['entries'][0].keys()"
   ]
  },
  {
   "cell_type": "markdown",
   "metadata": {},
   "source": [
    "### 7. Extract a list of entry titles."
   ]
  },
  {
   "cell_type": "code",
   "execution_count": 43,
   "metadata": {},
   "outputs": [
    {
     "name": "stdout",
     "output_type": "stream",
     "text": [
      "['NASA Selects University Teams to Explore Innovative Aeronautical Research', 'Become a SunSketcher, and Help Measure the Shape of the Sun!', 'NASA Sets Coverage of First US Uncrewed Commercial Moon Landing', 'NASA Tech Tuesday: Seeing is Communicating', 'Annual Highlights of Results 2023: Introduction and Analyses', '2023 Annual Highlights of Results from the International Space Station', 'Renee King: Ensuring Space for Everyone', '55 Years Ago: Five Months Until the Moon Landing', 'NASA-Funded Science Projects Tuning In to ‘Eclipse Radio’', 'NASA-Funded Science Projects Tuning In to ‘Eclipse Radio’']\n"
     ]
    }
   ],
   "source": [
    "# Extraer todos los títulos de la lista 'entries'\n",
    "titulo_entries = [entry['title'] for entry in nasa['entries']]\n",
    "\n",
    "print(titulo_entries)\n"
   ]
  },
  {
   "cell_type": "markdown",
   "metadata": {},
   "source": [
    "### 8. Calculate the percentage of \"Four short links\" entry titles."
   ]
  },
  {
   "cell_type": "code",
   "execution_count": null,
   "metadata": {},
   "outputs": [],
   "source": [
    "# No se puede hacer."
   ]
  },
  {
   "cell_type": "markdown",
   "metadata": {},
   "source": [
    "### 9. Create a Pandas data frame from the feed's entries."
   ]
  },
  {
   "cell_type": "code",
   "execution_count": 36,
   "metadata": {},
   "outputs": [],
   "source": [
    "import pandas as pd"
   ]
  },
  {
   "cell_type": "code",
   "execution_count": 53,
   "metadata": {},
   "outputs": [
    {
     "data": {
      "text/html": [
       "<div>\n",
       "<style scoped>\n",
       "    .dataframe tbody tr th:only-of-type {\n",
       "        vertical-align: middle;\n",
       "    }\n",
       "\n",
       "    .dataframe tbody tr th {\n",
       "        vertical-align: top;\n",
       "    }\n",
       "\n",
       "    .dataframe thead th {\n",
       "        text-align: right;\n",
       "    }\n",
       "</style>\n",
       "<table border=\"1\" class=\"dataframe\">\n",
       "  <thead>\n",
       "    <tr style=\"text-align: right;\">\n",
       "      <th></th>\n",
       "      <th>title</th>\n",
       "      <th>links</th>\n",
       "      <th>link</th>\n",
       "      <th>authors</th>\n",
       "      <th>author</th>\n",
       "      <th>published</th>\n",
       "      <th>published_parsed</th>\n",
       "      <th>tags</th>\n",
       "      <th>id</th>\n",
       "      <th>guidislink</th>\n",
       "      <th>...</th>\n",
       "      <th>content</th>\n",
       "      <th>title_detail.type</th>\n",
       "      <th>title_detail.language</th>\n",
       "      <th>title_detail.base</th>\n",
       "      <th>title_detail.value</th>\n",
       "      <th>author_detail.name</th>\n",
       "      <th>summary_detail.type</th>\n",
       "      <th>summary_detail.language</th>\n",
       "      <th>summary_detail.base</th>\n",
       "      <th>summary_detail.value</th>\n",
       "    </tr>\n",
       "  </thead>\n",
       "  <tbody>\n",
       "    <tr>\n",
       "      <th>0</th>\n",
       "      <td>NASA Selects University Teams to Explore Innov...</td>\n",
       "      <td>[{'rel': 'alternate', 'type': 'text/html', 'hr...</td>\n",
       "      <td>https://www.nasa.gov/aeronautics/university-te...</td>\n",
       "      <td>[{'name': 'Jim Banke'}]</td>\n",
       "      <td>Jim Banke</td>\n",
       "      <td>Wed, 21 Feb 2024 05:50:33 +0000</td>\n",
       "      <td>(2024, 2, 21, 5, 50, 33, 2, 52, 0)</td>\n",
       "      <td>[{'term': 'Aeronautics', 'scheme': None, 'labe...</td>\n",
       "      <td>https://www.nasa.gov/?p=617878</td>\n",
       "      <td>False</td>\n",
       "      <td>...</td>\n",
       "      <td>[{'type': 'text/html', 'language': None, 'base...</td>\n",
       "      <td>text/plain</td>\n",
       "      <td>None</td>\n",
       "      <td>https://www.nasa.gov/news-release/feed/</td>\n",
       "      <td>NASA Selects University Teams to Explore Innov...</td>\n",
       "      <td>Jim Banke</td>\n",
       "      <td>text/html</td>\n",
       "      <td>None</td>\n",
       "      <td>https://www.nasa.gov/news-release/feed/</td>\n",
       "      <td>NASA has selected another five university team...</td>\n",
       "    </tr>\n",
       "    <tr>\n",
       "      <th>1</th>\n",
       "      <td>Become a SunSketcher, and Help Measure the Sha...</td>\n",
       "      <td>[{'rel': 'alternate', 'type': 'text/html', 'hr...</td>\n",
       "      <td>https://science.nasa.gov/get-involved/citizen-...</td>\n",
       "      <td>[{}]</td>\n",
       "      <td></td>\n",
       "      <td>Tue, 20 Feb 2024 21:35:49 +0000</td>\n",
       "      <td>(2024, 2, 20, 21, 35, 49, 1, 51, 0)</td>\n",
       "      <td>[{'term': 'Citizen Science', 'scheme': None, '...</td>\n",
       "      <td>https://science.nasa.gov/get-involved/citizen-...</td>\n",
       "      <td>False</td>\n",
       "      <td>...</td>\n",
       "      <td>[{'type': 'text/html', 'language': None, 'base...</td>\n",
       "      <td>text/plain</td>\n",
       "      <td>None</td>\n",
       "      <td>https://www.nasa.gov/news-release/feed/</td>\n",
       "      <td>Become a SunSketcher, and Help Measure the Sha...</td>\n",
       "      <td>NaN</td>\n",
       "      <td>text/html</td>\n",
       "      <td>None</td>\n",
       "      <td>https://www.nasa.gov/news-release/feed/</td>\n",
       "      <td>What shape Is the Sun? Hint: it’s not perfectl...</td>\n",
       "    </tr>\n",
       "    <tr>\n",
       "      <th>2</th>\n",
       "      <td>NASA Sets Coverage of First US Uncrewed Commer...</td>\n",
       "      <td>[{'rel': 'alternate', 'type': 'text/html', 'hr...</td>\n",
       "      <td>https://www.nasa.gov/news-release/nasa-sets-co...</td>\n",
       "      <td>[{'name': 'Tiernan P. Doyle'}]</td>\n",
       "      <td>Tiernan P. Doyle</td>\n",
       "      <td>Tue, 20 Feb 2024 20:11:21 +0000</td>\n",
       "      <td>(2024, 2, 20, 20, 11, 21, 1, 51, 0)</td>\n",
       "      <td>[{'term': 'Commercial Space', 'scheme': None, ...</td>\n",
       "      <td>https://www.nasa.gov/?post_type=press-release&amp;...</td>\n",
       "      <td>False</td>\n",
       "      <td>...</td>\n",
       "      <td>[{'type': 'text/html', 'language': None, 'base...</td>\n",
       "      <td>text/plain</td>\n",
       "      <td>None</td>\n",
       "      <td>https://www.nasa.gov/news-release/feed/</td>\n",
       "      <td>NASA Sets Coverage of First US Uncrewed Commer...</td>\n",
       "      <td>Tiernan P. Doyle</td>\n",
       "      <td>text/html</td>\n",
       "      <td>None</td>\n",
       "      <td>https://www.nasa.gov/news-release/feed/</td>\n",
       "      <td>As part of NASA’s CLPS (Commercial Lunar Paylo...</td>\n",
       "    </tr>\n",
       "    <tr>\n",
       "      <th>3</th>\n",
       "      <td>NASA Tech Tuesday: Seeing is Communicating</td>\n",
       "      <td>[{'rel': 'alternate', 'type': 'text/html', 'hr...</td>\n",
       "      <td>https://www.nasa.gov/directorates/stmd/tech-tr...</td>\n",
       "      <td>[{'name': 'Andrew Wagner'}]</td>\n",
       "      <td>Andrew Wagner</td>\n",
       "      <td>Tue, 20 Feb 2024 19:15:55 +0000</td>\n",
       "      <td>(2024, 2, 20, 19, 15, 55, 1, 51, 0)</td>\n",
       "      <td>[{'term': 'Spinoffs', 'scheme': None, 'label':...</td>\n",
       "      <td>https://www.nasa.gov/?p=617370</td>\n",
       "      <td>False</td>\n",
       "      <td>...</td>\n",
       "      <td>[{'type': 'text/html', 'language': None, 'base...</td>\n",
       "      <td>text/plain</td>\n",
       "      <td>None</td>\n",
       "      <td>https://www.nasa.gov/news-release/feed/</td>\n",
       "      <td>NASA Tech Tuesday: Seeing is Communicating</td>\n",
       "      <td>Andrew Wagner</td>\n",
       "      <td>text/html</td>\n",
       "      <td>None</td>\n",
       "      <td>https://www.nasa.gov/news-release/feed/</td>\n",
       "      <td>Eye-tracking technology supported by NASA make...</td>\n",
       "    </tr>\n",
       "    <tr>\n",
       "      <th>4</th>\n",
       "      <td>Annual Highlights of Results 2023: Introductio...</td>\n",
       "      <td>[{'rel': 'alternate', 'type': 'text/html', 'hr...</td>\n",
       "      <td>https://www.nasa.gov/missions/station/iss-rese...</td>\n",
       "      <td>[{'name': 'Ana Guzman'}]</td>\n",
       "      <td>Ana Guzman</td>\n",
       "      <td>Tue, 20 Feb 2024 19:08:50 +0000</td>\n",
       "      <td>(2024, 2, 20, 19, 8, 50, 1, 51, 0)</td>\n",
       "      <td>[{'term': 'ISS Research', 'scheme': None, 'lab...</td>\n",
       "      <td>https://www.nasa.gov/?p=614944</td>\n",
       "      <td>False</td>\n",
       "      <td>...</td>\n",
       "      <td>[{'type': 'text/html', 'language': None, 'base...</td>\n",
       "      <td>text/plain</td>\n",
       "      <td>None</td>\n",
       "      <td>https://www.nasa.gov/news-release/feed/</td>\n",
       "      <td>Annual Highlights of Results 2023: Introductio...</td>\n",
       "      <td>Ana Guzman</td>\n",
       "      <td>text/html</td>\n",
       "      <td>None</td>\n",
       "      <td>https://www.nasa.gov/news-release/feed/</td>\n",
       "      <td>After 25 years of international collaboration ...</td>\n",
       "    </tr>\n",
       "    <tr>\n",
       "      <th>5</th>\n",
       "      <td>2023 Annual Highlights of Results from the Int...</td>\n",
       "      <td>[{'rel': 'alternate', 'type': 'text/html', 'hr...</td>\n",
       "      <td>https://www.nasa.gov/missions/station/iss-rese...</td>\n",
       "      <td>[{'name': 'Ana Guzman'}]</td>\n",
       "      <td>Ana Guzman</td>\n",
       "      <td>Tue, 20 Feb 2024 19:06:31 +0000</td>\n",
       "      <td>(2024, 2, 20, 19, 6, 31, 1, 51, 0)</td>\n",
       "      <td>[{'term': 'ISS Research', 'scheme': None, 'lab...</td>\n",
       "      <td>https://www.nasa.gov/?p=614912</td>\n",
       "      <td>False</td>\n",
       "      <td>...</td>\n",
       "      <td>[{'type': 'text/html', 'language': None, 'base...</td>\n",
       "      <td>text/plain</td>\n",
       "      <td>None</td>\n",
       "      <td>https://www.nasa.gov/news-release/feed/</td>\n",
       "      <td>2023 Annual Highlights of Results from the Int...</td>\n",
       "      <td>Ana Guzman</td>\n",
       "      <td>text/html</td>\n",
       "      <td>None</td>\n",
       "      <td>https://www.nasa.gov/news-release/feed/</td>\n",
       "      <td>The 2023 Annual Highlights of Results from the...</td>\n",
       "    </tr>\n",
       "    <tr>\n",
       "      <th>6</th>\n",
       "      <td>Renee King: Ensuring Space for Everyone</td>\n",
       "      <td>[{'rel': 'alternate', 'type': 'text/html', 'hr...</td>\n",
       "      <td>https://www.nasa.gov/people-of-nasa/goddard-pe...</td>\n",
       "      <td>[{'name': 'Madison Olson'}]</td>\n",
       "      <td>Madison Olson</td>\n",
       "      <td>Tue, 20 Feb 2024 18:25:02 +0000</td>\n",
       "      <td>(2024, 2, 20, 18, 25, 2, 1, 51, 0)</td>\n",
       "      <td>[{'term': 'People of Goddard', 'scheme': None,...</td>\n",
       "      <td>https://www.nasa.gov/?p=617415</td>\n",
       "      <td>False</td>\n",
       "      <td>...</td>\n",
       "      <td>[{'type': 'text/html', 'language': None, 'base...</td>\n",
       "      <td>text/plain</td>\n",
       "      <td>None</td>\n",
       "      <td>https://www.nasa.gov/news-release/feed/</td>\n",
       "      <td>Renee King: Ensuring Space for Everyone</td>\n",
       "      <td>Madison Olson</td>\n",
       "      <td>text/html</td>\n",
       "      <td>None</td>\n",
       "      <td>https://www.nasa.gov/news-release/feed/</td>\n",
       "      <td>Renee King calls herself Goddard Space Flight ...</td>\n",
       "    </tr>\n",
       "    <tr>\n",
       "      <th>7</th>\n",
       "      <td>55 Years Ago: Five Months Until the Moon Landing</td>\n",
       "      <td>[{'rel': 'alternate', 'type': 'text/html', 'hr...</td>\n",
       "      <td>https://www.nasa.gov/history/55-years-ago-five...</td>\n",
       "      <td>[{'name': 'Kelli Mars'}]</td>\n",
       "      <td>Kelli Mars</td>\n",
       "      <td>Tue, 20 Feb 2024 17:33:12 +0000</td>\n",
       "      <td>(2024, 2, 20, 17, 33, 12, 1, 51, 0)</td>\n",
       "      <td>[{'term': 'NASA History', 'scheme': None, 'lab...</td>\n",
       "      <td>https://www.nasa.gov/?p=617293</td>\n",
       "      <td>False</td>\n",
       "      <td>...</td>\n",
       "      <td>[{'type': 'text/html', 'language': None, 'base...</td>\n",
       "      <td>text/plain</td>\n",
       "      <td>None</td>\n",
       "      <td>https://www.nasa.gov/news-release/feed/</td>\n",
       "      <td>55 Years Ago: Five Months Until the Moon Landing</td>\n",
       "      <td>Kelli Mars</td>\n",
       "      <td>text/html</td>\n",
       "      <td>None</td>\n",
       "      <td>https://www.nasa.gov/news-release/feed/</td>\n",
       "      <td>Following the success of the Apollo 8 circumlu...</td>\n",
       "    </tr>\n",
       "    <tr>\n",
       "      <th>8</th>\n",
       "      <td>NASA-Funded Science Projects Tuning In to ‘Ecl...</td>\n",
       "      <td>[{'rel': 'alternate', 'type': 'text/html', 'hr...</td>\n",
       "      <td>https://science.nasa.gov/solar-system/skywatch...</td>\n",
       "      <td>[{}]</td>\n",
       "      <td></td>\n",
       "      <td>Tue, 20 Feb 2024 17:23:16 +0000</td>\n",
       "      <td>(2024, 2, 20, 17, 23, 16, 1, 51, 0)</td>\n",
       "      <td>[{'term': '2024 Solar Eclipse', 'scheme': None...</td>\n",
       "      <td>https://science.nasa.gov/solar-system/skywatch...</td>\n",
       "      <td>False</td>\n",
       "      <td>...</td>\n",
       "      <td>[{'type': 'text/html', 'language': None, 'base...</td>\n",
       "      <td>text/plain</td>\n",
       "      <td>None</td>\n",
       "      <td>https://www.nasa.gov/news-release/feed/</td>\n",
       "      <td>NASA-Funded Science Projects Tuning In to ‘Ecl...</td>\n",
       "      <td>NaN</td>\n",
       "      <td>text/html</td>\n",
       "      <td>None</td>\n",
       "      <td>https://www.nasa.gov/news-release/feed/</td>\n",
       "      <td>On April 8, 2024, a total solar eclipse will c...</td>\n",
       "    </tr>\n",
       "    <tr>\n",
       "      <th>9</th>\n",
       "      <td>NASA-Funded Science Projects Tuning In to ‘Ecl...</td>\n",
       "      <td>[{'rel': 'alternate', 'type': 'text/html', 'hr...</td>\n",
       "      <td>https://science.nasa.gov/solar-system/skywatch...</td>\n",
       "      <td>[{}]</td>\n",
       "      <td></td>\n",
       "      <td>Tue, 20 Feb 2024 17:23:16 +0000</td>\n",
       "      <td>(2024, 2, 20, 17, 23, 16, 1, 51, 0)</td>\n",
       "      <td>[{'term': '2024 Solar Eclipse', 'scheme': None...</td>\n",
       "      <td>https://science.nasa.gov/solar-system/skywatch...</td>\n",
       "      <td>False</td>\n",
       "      <td>...</td>\n",
       "      <td>[{'type': 'text/html', 'language': None, 'base...</td>\n",
       "      <td>text/plain</td>\n",
       "      <td>None</td>\n",
       "      <td>https://www.nasa.gov/news-release/feed/</td>\n",
       "      <td>NASA-Funded Science Projects Tuning In to ‘Ecl...</td>\n",
       "      <td>NaN</td>\n",
       "      <td>text/html</td>\n",
       "      <td>None</td>\n",
       "      <td>https://www.nasa.gov/news-release/feed/</td>\n",
       "      <td>On April 8, 2024, a total solar eclipse will c...</td>\n",
       "    </tr>\n",
       "  </tbody>\n",
       "</table>\n",
       "<p>10 rows × 21 columns</p>\n",
       "</div>"
      ],
      "text/plain": [
       "                                               title  \\\n",
       "0  NASA Selects University Teams to Explore Innov...   \n",
       "1  Become a SunSketcher, and Help Measure the Sha...   \n",
       "2  NASA Sets Coverage of First US Uncrewed Commer...   \n",
       "3         NASA Tech Tuesday: Seeing is Communicating   \n",
       "4  Annual Highlights of Results 2023: Introductio...   \n",
       "5  2023 Annual Highlights of Results from the Int...   \n",
       "6            Renee King: Ensuring Space for Everyone   \n",
       "7   55 Years Ago: Five Months Until the Moon Landing   \n",
       "8  NASA-Funded Science Projects Tuning In to ‘Ecl...   \n",
       "9  NASA-Funded Science Projects Tuning In to ‘Ecl...   \n",
       "\n",
       "                                               links  \\\n",
       "0  [{'rel': 'alternate', 'type': 'text/html', 'hr...   \n",
       "1  [{'rel': 'alternate', 'type': 'text/html', 'hr...   \n",
       "2  [{'rel': 'alternate', 'type': 'text/html', 'hr...   \n",
       "3  [{'rel': 'alternate', 'type': 'text/html', 'hr...   \n",
       "4  [{'rel': 'alternate', 'type': 'text/html', 'hr...   \n",
       "5  [{'rel': 'alternate', 'type': 'text/html', 'hr...   \n",
       "6  [{'rel': 'alternate', 'type': 'text/html', 'hr...   \n",
       "7  [{'rel': 'alternate', 'type': 'text/html', 'hr...   \n",
       "8  [{'rel': 'alternate', 'type': 'text/html', 'hr...   \n",
       "9  [{'rel': 'alternate', 'type': 'text/html', 'hr...   \n",
       "\n",
       "                                                link  \\\n",
       "0  https://www.nasa.gov/aeronautics/university-te...   \n",
       "1  https://science.nasa.gov/get-involved/citizen-...   \n",
       "2  https://www.nasa.gov/news-release/nasa-sets-co...   \n",
       "3  https://www.nasa.gov/directorates/stmd/tech-tr...   \n",
       "4  https://www.nasa.gov/missions/station/iss-rese...   \n",
       "5  https://www.nasa.gov/missions/station/iss-rese...   \n",
       "6  https://www.nasa.gov/people-of-nasa/goddard-pe...   \n",
       "7  https://www.nasa.gov/history/55-years-ago-five...   \n",
       "8  https://science.nasa.gov/solar-system/skywatch...   \n",
       "9  https://science.nasa.gov/solar-system/skywatch...   \n",
       "\n",
       "                          authors            author  \\\n",
       "0         [{'name': 'Jim Banke'}]         Jim Banke   \n",
       "1                            [{}]                     \n",
       "2  [{'name': 'Tiernan P. Doyle'}]  Tiernan P. Doyle   \n",
       "3     [{'name': 'Andrew Wagner'}]     Andrew Wagner   \n",
       "4        [{'name': 'Ana Guzman'}]        Ana Guzman   \n",
       "5        [{'name': 'Ana Guzman'}]        Ana Guzman   \n",
       "6     [{'name': 'Madison Olson'}]     Madison Olson   \n",
       "7        [{'name': 'Kelli Mars'}]        Kelli Mars   \n",
       "8                            [{}]                     \n",
       "9                            [{}]                     \n",
       "\n",
       "                         published                     published_parsed  \\\n",
       "0  Wed, 21 Feb 2024 05:50:33 +0000   (2024, 2, 21, 5, 50, 33, 2, 52, 0)   \n",
       "1  Tue, 20 Feb 2024 21:35:49 +0000  (2024, 2, 20, 21, 35, 49, 1, 51, 0)   \n",
       "2  Tue, 20 Feb 2024 20:11:21 +0000  (2024, 2, 20, 20, 11, 21, 1, 51, 0)   \n",
       "3  Tue, 20 Feb 2024 19:15:55 +0000  (2024, 2, 20, 19, 15, 55, 1, 51, 0)   \n",
       "4  Tue, 20 Feb 2024 19:08:50 +0000   (2024, 2, 20, 19, 8, 50, 1, 51, 0)   \n",
       "5  Tue, 20 Feb 2024 19:06:31 +0000   (2024, 2, 20, 19, 6, 31, 1, 51, 0)   \n",
       "6  Tue, 20 Feb 2024 18:25:02 +0000   (2024, 2, 20, 18, 25, 2, 1, 51, 0)   \n",
       "7  Tue, 20 Feb 2024 17:33:12 +0000  (2024, 2, 20, 17, 33, 12, 1, 51, 0)   \n",
       "8  Tue, 20 Feb 2024 17:23:16 +0000  (2024, 2, 20, 17, 23, 16, 1, 51, 0)   \n",
       "9  Tue, 20 Feb 2024 17:23:16 +0000  (2024, 2, 20, 17, 23, 16, 1, 51, 0)   \n",
       "\n",
       "                                                tags  \\\n",
       "0  [{'term': 'Aeronautics', 'scheme': None, 'labe...   \n",
       "1  [{'term': 'Citizen Science', 'scheme': None, '...   \n",
       "2  [{'term': 'Commercial Space', 'scheme': None, ...   \n",
       "3  [{'term': 'Spinoffs', 'scheme': None, 'label':...   \n",
       "4  [{'term': 'ISS Research', 'scheme': None, 'lab...   \n",
       "5  [{'term': 'ISS Research', 'scheme': None, 'lab...   \n",
       "6  [{'term': 'People of Goddard', 'scheme': None,...   \n",
       "7  [{'term': 'NASA History', 'scheme': None, 'lab...   \n",
       "8  [{'term': '2024 Solar Eclipse', 'scheme': None...   \n",
       "9  [{'term': '2024 Solar Eclipse', 'scheme': None...   \n",
       "\n",
       "                                                  id  guidislink  ...  \\\n",
       "0                     https://www.nasa.gov/?p=617878       False  ...   \n",
       "1  https://science.nasa.gov/get-involved/citizen-...       False  ...   \n",
       "2  https://www.nasa.gov/?post_type=press-release&...       False  ...   \n",
       "3                     https://www.nasa.gov/?p=617370       False  ...   \n",
       "4                     https://www.nasa.gov/?p=614944       False  ...   \n",
       "5                     https://www.nasa.gov/?p=614912       False  ...   \n",
       "6                     https://www.nasa.gov/?p=617415       False  ...   \n",
       "7                     https://www.nasa.gov/?p=617293       False  ...   \n",
       "8  https://science.nasa.gov/solar-system/skywatch...       False  ...   \n",
       "9  https://science.nasa.gov/solar-system/skywatch...       False  ...   \n",
       "\n",
       "                                             content title_detail.type  \\\n",
       "0  [{'type': 'text/html', 'language': None, 'base...        text/plain   \n",
       "1  [{'type': 'text/html', 'language': None, 'base...        text/plain   \n",
       "2  [{'type': 'text/html', 'language': None, 'base...        text/plain   \n",
       "3  [{'type': 'text/html', 'language': None, 'base...        text/plain   \n",
       "4  [{'type': 'text/html', 'language': None, 'base...        text/plain   \n",
       "5  [{'type': 'text/html', 'language': None, 'base...        text/plain   \n",
       "6  [{'type': 'text/html', 'language': None, 'base...        text/plain   \n",
       "7  [{'type': 'text/html', 'language': None, 'base...        text/plain   \n",
       "8  [{'type': 'text/html', 'language': None, 'base...        text/plain   \n",
       "9  [{'type': 'text/html', 'language': None, 'base...        text/plain   \n",
       "\n",
       "  title_detail.language                        title_detail.base  \\\n",
       "0                  None  https://www.nasa.gov/news-release/feed/   \n",
       "1                  None  https://www.nasa.gov/news-release/feed/   \n",
       "2                  None  https://www.nasa.gov/news-release/feed/   \n",
       "3                  None  https://www.nasa.gov/news-release/feed/   \n",
       "4                  None  https://www.nasa.gov/news-release/feed/   \n",
       "5                  None  https://www.nasa.gov/news-release/feed/   \n",
       "6                  None  https://www.nasa.gov/news-release/feed/   \n",
       "7                  None  https://www.nasa.gov/news-release/feed/   \n",
       "8                  None  https://www.nasa.gov/news-release/feed/   \n",
       "9                  None  https://www.nasa.gov/news-release/feed/   \n",
       "\n",
       "                                  title_detail.value author_detail.name  \\\n",
       "0  NASA Selects University Teams to Explore Innov...          Jim Banke   \n",
       "1  Become a SunSketcher, and Help Measure the Sha...                NaN   \n",
       "2  NASA Sets Coverage of First US Uncrewed Commer...   Tiernan P. Doyle   \n",
       "3         NASA Tech Tuesday: Seeing is Communicating      Andrew Wagner   \n",
       "4  Annual Highlights of Results 2023: Introductio...         Ana Guzman   \n",
       "5  2023 Annual Highlights of Results from the Int...         Ana Guzman   \n",
       "6            Renee King: Ensuring Space for Everyone      Madison Olson   \n",
       "7   55 Years Ago: Five Months Until the Moon Landing         Kelli Mars   \n",
       "8  NASA-Funded Science Projects Tuning In to ‘Ecl...                NaN   \n",
       "9  NASA-Funded Science Projects Tuning In to ‘Ecl...                NaN   \n",
       "\n",
       "  summary_detail.type summary_detail.language  \\\n",
       "0           text/html                    None   \n",
       "1           text/html                    None   \n",
       "2           text/html                    None   \n",
       "3           text/html                    None   \n",
       "4           text/html                    None   \n",
       "5           text/html                    None   \n",
       "6           text/html                    None   \n",
       "7           text/html                    None   \n",
       "8           text/html                    None   \n",
       "9           text/html                    None   \n",
       "\n",
       "                       summary_detail.base  \\\n",
       "0  https://www.nasa.gov/news-release/feed/   \n",
       "1  https://www.nasa.gov/news-release/feed/   \n",
       "2  https://www.nasa.gov/news-release/feed/   \n",
       "3  https://www.nasa.gov/news-release/feed/   \n",
       "4  https://www.nasa.gov/news-release/feed/   \n",
       "5  https://www.nasa.gov/news-release/feed/   \n",
       "6  https://www.nasa.gov/news-release/feed/   \n",
       "7  https://www.nasa.gov/news-release/feed/   \n",
       "8  https://www.nasa.gov/news-release/feed/   \n",
       "9  https://www.nasa.gov/news-release/feed/   \n",
       "\n",
       "                                summary_detail.value  \n",
       "0  NASA has selected another five university team...  \n",
       "1  What shape Is the Sun? Hint: it’s not perfectl...  \n",
       "2  As part of NASA’s CLPS (Commercial Lunar Paylo...  \n",
       "3  Eye-tracking technology supported by NASA make...  \n",
       "4  After 25 years of international collaboration ...  \n",
       "5  The 2023 Annual Highlights of Results from the...  \n",
       "6  Renee King calls herself Goddard Space Flight ...  \n",
       "7  Following the success of the Apollo 8 circumlu...  \n",
       "8  On April 8, 2024, a total solar eclipse will c...  \n",
       "9  On April 8, 2024, a total solar eclipse will c...  \n",
       "\n",
       "[10 rows x 21 columns]"
      ]
     },
     "execution_count": 53,
     "metadata": {},
     "output_type": "execute_result"
    }
   ],
   "source": [
    "df = pd.DataFrame(pd.json_normalize(nasa['entries']))\n",
    "\n",
    "df"
   ]
  },
  {
   "cell_type": "markdown",
   "metadata": {},
   "source": [
    "### 10. Count the number of entries per author and sort them in descending order."
   ]
  },
  {
   "cell_type": "code",
   "execution_count": 54,
   "metadata": {},
   "outputs": [
    {
     "data": {
      "text/html": [
       "<div>\n",
       "<style scoped>\n",
       "    .dataframe tbody tr th:only-of-type {\n",
       "        vertical-align: middle;\n",
       "    }\n",
       "\n",
       "    .dataframe tbody tr th {\n",
       "        vertical-align: top;\n",
       "    }\n",
       "\n",
       "    .dataframe thead th {\n",
       "        text-align: right;\n",
       "    }\n",
       "</style>\n",
       "<table border=\"1\" class=\"dataframe\">\n",
       "  <thead>\n",
       "    <tr style=\"text-align: right;\">\n",
       "      <th></th>\n",
       "      <th>author</th>\n",
       "      <th>entries</th>\n",
       "    </tr>\n",
       "  </thead>\n",
       "  <tbody>\n",
       "    <tr>\n",
       "      <th>0</th>\n",
       "      <td></td>\n",
       "      <td>3</td>\n",
       "    </tr>\n",
       "    <tr>\n",
       "      <th>1</th>\n",
       "      <td>Ana Guzman</td>\n",
       "      <td>2</td>\n",
       "    </tr>\n",
       "    <tr>\n",
       "      <th>2</th>\n",
       "      <td>Andrew Wagner</td>\n",
       "      <td>1</td>\n",
       "    </tr>\n",
       "    <tr>\n",
       "      <th>3</th>\n",
       "      <td>Jim Banke</td>\n",
       "      <td>1</td>\n",
       "    </tr>\n",
       "    <tr>\n",
       "      <th>4</th>\n",
       "      <td>Kelli Mars</td>\n",
       "      <td>1</td>\n",
       "    </tr>\n",
       "    <tr>\n",
       "      <th>5</th>\n",
       "      <td>Madison Olson</td>\n",
       "      <td>1</td>\n",
       "    </tr>\n",
       "    <tr>\n",
       "      <th>6</th>\n",
       "      <td>Tiernan P. Doyle</td>\n",
       "      <td>1</td>\n",
       "    </tr>\n",
       "  </tbody>\n",
       "</table>\n",
       "</div>"
      ],
      "text/plain": [
       "             author  entries\n",
       "0                          3\n",
       "1        Ana Guzman        2\n",
       "2     Andrew Wagner        1\n",
       "3         Jim Banke        1\n",
       "4        Kelli Mars        1\n",
       "5     Madison Olson        1\n",
       "6  Tiernan P. Doyle        1"
      ]
     },
     "execution_count": 54,
     "metadata": {},
     "output_type": "execute_result"
    }
   ],
   "source": [
    "authors = df.groupby('author', as_index=False).agg({'title':'count'})\n",
    "authors.columns = ['author', 'entries']\n",
    "authors.sort_values('entries', ascending=False)"
   ]
  },
  {
   "cell_type": "markdown",
   "metadata": {},
   "source": [
    "### 11. Add a new column to the data frame that contains the length (number of characters) of each entry title. Return a data frame that contains the title, author, and title length of each entry in descending order (longest title length at the top)."
   ]
  },
  {
   "cell_type": "code",
   "execution_count": 52,
   "metadata": {},
   "outputs": [
    {
     "data": {
      "text/html": [
       "<div>\n",
       "<style scoped>\n",
       "    .dataframe tbody tr th:only-of-type {\n",
       "        vertical-align: middle;\n",
       "    }\n",
       "\n",
       "    .dataframe tbody tr th {\n",
       "        vertical-align: top;\n",
       "    }\n",
       "\n",
       "    .dataframe thead th {\n",
       "        text-align: right;\n",
       "    }\n",
       "</style>\n",
       "<table border=\"1\" class=\"dataframe\">\n",
       "  <thead>\n",
       "    <tr style=\"text-align: right;\">\n",
       "      <th></th>\n",
       "      <th>title</th>\n",
       "      <th>author</th>\n",
       "      <th>title_length</th>\n",
       "    </tr>\n",
       "  </thead>\n",
       "  <tbody>\n",
       "    <tr>\n",
       "      <th>0</th>\n",
       "      <td>NASA Selects University Teams to Explore Innov...</td>\n",
       "      <td>Jim Banke</td>\n",
       "      <td>73</td>\n",
       "    </tr>\n",
       "    <tr>\n",
       "      <th>5</th>\n",
       "      <td>2023 Annual Highlights of Results from the Int...</td>\n",
       "      <td>Ana Guzman</td>\n",
       "      <td>70</td>\n",
       "    </tr>\n",
       "    <tr>\n",
       "      <th>2</th>\n",
       "      <td>NASA Sets Coverage of First US Uncrewed Commer...</td>\n",
       "      <td>Tiernan P. Doyle</td>\n",
       "      <td>63</td>\n",
       "    </tr>\n",
       "    <tr>\n",
       "      <th>1</th>\n",
       "      <td>Become a SunSketcher, and Help Measure the Sha...</td>\n",
       "      <td></td>\n",
       "      <td>60</td>\n",
       "    </tr>\n",
       "    <tr>\n",
       "      <th>4</th>\n",
       "      <td>Annual Highlights of Results 2023: Introductio...</td>\n",
       "      <td>Ana Guzman</td>\n",
       "      <td>60</td>\n",
       "    </tr>\n",
       "  </tbody>\n",
       "</table>\n",
       "</div>"
      ],
      "text/plain": [
       "                                               title            author  \\\n",
       "0  NASA Selects University Teams to Explore Innov...         Jim Banke   \n",
       "5  2023 Annual Highlights of Results from the Int...        Ana Guzman   \n",
       "2  NASA Sets Coverage of First US Uncrewed Commer...  Tiernan P. Doyle   \n",
       "1  Become a SunSketcher, and Help Measure the Sha...                     \n",
       "4  Annual Highlights of Results 2023: Introductio...        Ana Guzman   \n",
       "\n",
       "   title_length  \n",
       "0            73  \n",
       "5            70  \n",
       "2            63  \n",
       "1            60  \n",
       "4            60  "
      ]
     },
     "execution_count": 52,
     "metadata": {},
     "output_type": "execute_result"
    }
   ],
   "source": [
    "df['title_length'] = df['title'].apply(len)\n",
    "df[['title', 'author', 'title_length']].sort_values('title_length', ascending=False).head()"
   ]
  },
  {
   "cell_type": "markdown",
   "metadata": {},
   "source": [
    "### 12. Create a list of entry titles whose summary includes the phrase \"machine learning.\""
   ]
  },
  {
   "cell_type": "code",
   "execution_count": 55,
   "metadata": {},
   "outputs": [
    {
     "name": "stdout",
     "output_type": "stream",
     "text": [
      "[]\n"
     ]
    }
   ],
   "source": [
    "lst = []\n",
    "\n",
    "for i in df['title']:\n",
    "    if 'machine learning' in i.lower():\n",
    "        lst.append(i)\n",
    "\n",
    "print(lst)"
   ]
  },
  {
   "cell_type": "code",
   "execution_count": null,
   "metadata": {},
   "outputs": [],
   "source": []
  }
 ],
 "metadata": {
  "kernelspec": {
   "display_name": "Python 3 (ipykernel)",
   "language": "python",
   "name": "python3"
  },
  "language_info": {
   "codemirror_mode": {
    "name": "ipython",
    "version": 3
   },
   "file_extension": ".py",
   "mimetype": "text/x-python",
   "name": "python",
   "nbconvert_exporter": "python",
   "pygments_lexer": "ipython3",
   "version": "3.11.5"
  }
 },
 "nbformat": 4,
 "nbformat_minor": 2
}
